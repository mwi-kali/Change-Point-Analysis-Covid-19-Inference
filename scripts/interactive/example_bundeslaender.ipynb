{
 "cells": [
  {
   "cell_type": "markdown",
   "metadata": {},
   "source": [
    "[![Open In Colab](https://colab.research.google.com/assets/colab-badge.svg)](https://colab.research.google.com/github/Priesemann-Group/covid19_inference/blob/model_cleanup/scripts/interactive/example_bundeslaender.ipynb)"
   ]
  },
  {
   "cell_type": "code",
   "execution_count": 1,
   "metadata": {},
   "outputs": [],
   "source": [
    "!pip install git+https://github.com/Priesemann-Group/covid19_inference.git"
   ]
  },
  {
   "cell_type": "markdown",
   "metadata": {},
   "source": [
    "\n",
    "\n",
    "# Hierarchical Bayesian Model for all German states (Bundeslaender).\n",
    "\n",
    "Runtime ~ 1h\n",
    "\n",
    "This file creates the model with three changing points of the paper https://science.sciencemag.org/content/early/2020/05/14/science.abb9789.\n",
    "\n",
    "## Importing modules\n"
   ]
  },
  {
   "cell_type": "code",
   "execution_count": 1,
   "metadata": {},
   "outputs": [
    {
     "name": "stderr",
     "output_type": "stream",
     "text": [
      "WARNING (theano.configdefaults): g++ not available, if using conda: `conda install m2w64-toolchain`\n",
      "C:\\Users\\smwik\\Anaconda3\\lib\\site-packages\\theano\\configdefaults.py:560: UserWarning: DeprecationWarning: there is no c++ compiler.This is deprecated and with Theano 0.11 a c++ compiler will be mandatory\n",
      "  warnings.warn(\"DeprecationWarning: there is no c++ compiler.\"\n",
      "WARNING (theano.configdefaults): g++ not detected ! Theano will be unable to execute optimized C-implementations (for both CPU and GPU) and will default to Python implementations. Performance will be severely degraded. To remove this warning, set Theano flags cxx to an empty string.\n",
      "WARNING (theano.tensor.blas): Using NumPy C-API based implementation for BLAS functions.\n"
     ]
    }
   ],
   "source": [
    "import datetime\n",
    "import sys\n",
    "import pandas as pd\n",
    "import numpy as np\n",
    "import matplotlib as mpl\n",
    "import matplotlib.pyplot as plt\n",
    "import scipy.stats\n",
    "import theano\n",
    "import theano.tensor as tt\n",
    "import pymc3 as pm"
   ]
  },
  {
   "cell_type": "code",
   "execution_count": 2,
   "metadata": {},
   "outputs": [],
   "source": [
    "try:\n",
    "    import covid19_inference as cov19\n",
    "except ModuleNotFoundError:\n",
    "    sys.path.append(\"../../\")\n",
    "    import covid19_inference as cov19"
   ]
  },
  {
   "cell_type": "markdown",
   "metadata": {},
   "source": [
    "\n",
    "\n",
    "## Creating the model\n",
    "\n",
    "This cell downloads data and builds the pymc3 model for the Bayesian inference.\n",
    "More information can be found in the\n",
    "[documentation](https://covid19-inference.readthedocs.io/en/latest/doc/gettingstarted.html).\n"
   ]
  },
  {
   "cell_type": "code",
   "execution_count": 3,
   "metadata": {},
   "outputs": [],
   "source": [
    "# Dates to obtain the data from\n",
    "date_begin_data = datetime.datetime(2020, 3, 10)\n",
    "date_end_data = datetime.datetime(2020, 4, 19)"
   ]
  },
  {
   "cell_type": "code",
   "execution_count": 4,
   "metadata": {},
   "outputs": [
    {
     "name": "stderr",
     "output_type": "stream",
     "text": [
      "INFO     [covid19_inference.data_retrieval.retrieval] Successfully loaded data from local\n"
     ]
    }
   ],
   "source": [
    "# Downloads 2-D array of new cases (for each state) from the Robert Koch Institute\n",
    "rki = cov19.data_retrieval.RKI(True)\n",
    "df_bundeslaender = rki.filter_all_bundesland(date_begin_data, date_end_data)\n",
    "new_cases_obs = np.diff(np.array(df_bundeslaender), axis=0)[:, :]"
   ]
  },
  {
   "cell_type": "code",
   "execution_count": 5,
   "metadata": {},
   "outputs": [],
   "source": [
    "# 1D array of state population, ordered alphabetically\n",
    "N_state = [\n",
    "    10880000,\n",
    "    12844000,\n",
    "    3520000,\n",
    "    2485000,\n",
    "    671000,\n",
    "    1787000,\n",
    "    6176000,\n",
    "    7927000,\n",
    "    1612000,\n",
    "    17865000,\n",
    "    4053000,\n",
    "    996000,\n",
    "    4085000,\n",
    "    2245000,\n",
    "    2859000,\n",
    "    2171000,\n",
    "]"
   ]
  },
  {
   "cell_type": "code",
   "execution_count": 6,
   "metadata": {},
   "outputs": [],
   "source": [
    "# Number of days the simulation starts earlier than the data.\n",
    "# Should be significantly larger than the expected delay in order to always fit the same number of data points.\n",
    "diff_data_sim = 16\n",
    "# Number of days in the future (after date_end_data) to forecast cases\n",
    "num_days_forecast = 10"
   ]
  },
  {
   "cell_type": "code",
   "execution_count": 7,
   "metadata": {},
   "outputs": [],
   "source": [
    "# Change point midpoint dates\n",
    "prior_date_mild_dist_begin = datetime.datetime(2020, 3, 11)\n",
    "prior_date_strong_dist_begin = datetime.datetime(2020, 3, 18)\n",
    "prior_date_contact_ban_begin = datetime.datetime(2020, 3, 25)"
   ]
  },
  {
   "cell_type": "code",
   "execution_count": 8,
   "metadata": {},
   "outputs": [],
   "source": [
    "# Structures change points in a dict. Variables not passed will assume default values.\n",
    "change_points = [\n",
    "    dict(\n",
    "        pr_mean_date_transient=prior_date_mild_dist_begin,\n",
    "        pr_sigma_date_transient=1.5,\n",
    "        pr_median_lambda=0.2,\n",
    "        pr_sigma_lambda=0.5,\n",
    "        pr_sigma_transient_len=0.5,\n",
    "    ),\n",
    "    dict(\n",
    "        pr_mean_date_transient=prior_date_strong_dist_begin,\n",
    "        pr_sigma_date_transient=1.5,\n",
    "        pr_median_lambda=1 / 8,\n",
    "        pr_sigma_lambda=0.5,\n",
    "        pr_sigma_transient_len=0.5,\n",
    "    ),\n",
    "    dict(\n",
    "        pr_mean_date_transient=prior_date_contact_ban_begin,\n",
    "        pr_sigma_date_transient=1.5,\n",
    "        pr_median_lambda=1 / 8 / 2,\n",
    "        pr_sigma_lambda=0.5,\n",
    "        pr_sigma_transient_len=0.5,\n",
    "    ),\n",
    "]"
   ]
  },
  {
   "cell_type": "code",
   "execution_count": 9,
   "metadata": {},
   "outputs": [],
   "source": [
    "# Stores the model parameters in a dict\n",
    "params_model = dict(\n",
    "    new_cases_obs=new_cases_obs[:],\n",
    "    data_begin=date_begin_data,\n",
    "    fcast_len=num_days_forecast,\n",
    "    diff_data_sim=diff_data_sim,\n",
    "    N_population=N_state,\n",
    ")\n",
    "# Median of the prior for the delay in case reporting, we assume 10 days\n",
    "pr_delay = 10"
   ]
  },
  {
   "cell_type": "code",
   "execution_count": 10,
   "metadata": {},
   "outputs": [
    {
     "name": "stderr",
     "output_type": "stream",
     "text": [
      "INFO     [covid19_inference.model.spreading_rate] Lambda_t with sigmoids\n",
      "INFO     [covid19_inference.model.model] pr_median_transient_len was set to default value 4\n",
      "INFO     [covid19_inference.model.model] relative_to_previous was set to default value False\n",
      "INFO     [covid19_inference.model.model] pr_factor_to_previous was set to default value 1\n",
      "INFO     [covid19_inference.model.model] pr_median_transient_len was set to default value 4\n",
      "INFO     [covid19_inference.model.model] relative_to_previous was set to default value False\n",
      "INFO     [covid19_inference.model.model] pr_factor_to_previous was set to default value 1\n",
      "INFO     [covid19_inference.model.model] pr_median_transient_len was set to default value 4\n",
      "INFO     [covid19_inference.model.model] relative_to_previous was set to default value False\n",
      "INFO     [covid19_inference.model.model] pr_factor_to_previous was set to default value 1\n",
      "INFO     [covid19_inference.model.compartmental_models] Uncorrelated prior_I\n",
      "INFO     [covid19_inference.model.compartmental_models] SIR\n",
      "INFO     [covid19_inference.model.delay] Delaying cases\n",
      "INFO     [covid19_inference.model.week_modulation] Week modulation\n"
     ]
    }
   ],
   "source": [
    "# The true model is defined in a context manager.\n",
    "# Check https://docs.pymc.io/notebooks/getting_started.html for details on it.\n",
    "with cov19.model.Cov19Model(**params_model) as this_model:\n",
    "\n",
    "    # Create the array of the time dependent infection rate lambda\n",
    "    lambda_t_log = cov19.model.lambda_t_with_sigmoids(\n",
    "        pr_median_lambda_0=0.4,\n",
    "        pr_sigma_lambda_0=0.5,\n",
    "        change_points_list=change_points,\n",
    "        name_lambda_t=\"lambda_t\",  # Name for the variable in the trace (see later)\n",
    "    )\n",
    "\n",
    "    # Adds the recovery rate mu to the model as a random variable\n",
    "    mu = pm.Lognormal(name=\"mu\", mu=np.log(1 / 8), sigma=0.2)\n",
    "\n",
    "    # This builds a decorrelated prior for I_begin for faster inference. It is not\n",
    "    # necessary to use it, one can simply remove it and use the default argument for\n",
    "    # pr_I_begin in cov19.SIR\n",
    "    prior_I = cov19.model.uncorrelated_prior_I(\n",
    "        lambda_t_log=lambda_t_log, mu=mu, pr_median_delay=pr_delay\n",
    "    )\n",
    "\n",
    "    # Use lambda_t_log and mu as parameters for the SIR model.\n",
    "    # The SIR model generates the inferred new daily cases.\n",
    "    new_cases = cov19.model.SIR(lambda_t_log=lambda_t_log, mu=mu, pr_I_begin=prior_I)\n",
    "\n",
    "    # Delay the cases by a lognormal reporting delay and add them as a trace variable\n",
    "    new_cases = cov19.model.delay_cases(\n",
    "        cases=new_cases,\n",
    "        name_cases=\"delayed_cases\",\n",
    "        pr_mean_of_median=pr_delay,\n",
    "        pr_median_of_width=0.3,\n",
    "    )\n",
    "\n",
    "    # Modulate the inferred cases by a abs(sin(x)) function, to account for weekend effects\n",
    "    # Also adds the \"new_cases\" variable to the trace that has all model features.\n",
    "    new_cases = cov19.model.week_modulation(cases=new_cases, name_cases=\"new_cases\")\n",
    "\n",
    "    # Define the likelihood, uses the new_cases_obs set as model parameter\n",
    "    cov19.model.student_t_likelihood(cases=new_cases)"
   ]
  },
  {
   "cell_type": "markdown",
   "metadata": {},
   "source": [
    "\n",
    "\n",
    "## MCMC sampling\n",
    "\n",
    "After the model is built, it is sampled using an MCMC sampler.\n",
    "The number of parallel runs can be set with the argument `cores=`.\n",
    "In particular, due to a bug in Theano, Windows users should set `cores=1`.\n",
    "The sampling can take a long time.\n"
   ]
  },
  {
   "cell_type": "code",
   "execution_count": 11,
   "metadata": {},
   "outputs": [
    {
     "name": "stderr",
     "output_type": "stream",
     "text": [
      "Auto-assigning NUTS sampler...\n",
      "INFO     [pymc3] Auto-assigning NUTS sampler...\n",
      "Initializing NUTS using advi+adapt_diag...\n",
      "INFO     [pymc3] Initializing NUTS using advi+adapt_diag...\n"
     ]
    },
    {
     "data": {
      "text/html": [
       "\n",
       "    <div>\n",
       "        <style>\n",
       "            /* Turns off some styling */\n",
       "            progress {\n",
       "                /* gets rid of default border in Firefox and Opera. */\n",
       "                border: none;\n",
       "                /* Needs to be in here for Safari polyfill so background images work as expected. */\n",
       "                background-size: auto;\n",
       "            }\n",
       "            .progress-bar-interrupted, .progress-bar-interrupted::-webkit-progress-bar {\n",
       "                background: #F44336;\n",
       "            }\n",
       "        </style>\n",
       "      <progress value='1241' class='' max='200000' style='width:300px; height:20px; vertical-align: middle;'></progress>\n",
       "      0.62% [1241/200000 04:14<11:18:04 Average Loss = 6,007.6]\n",
       "    </div>\n",
       "    "
      ],
      "text/plain": [
       "<IPython.core.display.HTML object>"
      ]
     },
     "metadata": {},
     "output_type": "display_data"
    },
    {
     "ename": "FloatingPointError",
     "evalue": "NaN occurred in optimization. \nThe current approximation of RV `sigma_lambda_0_hc_L1_log__`.ravel()[0] is NaN.\nThe current approximation of RV `lambda_0_hc_L2_log_raw_`.ravel()[0] is NaN.\nThe current approximation of RV `lambda_0_hc_L2_log_raw_`.ravel()[1] is NaN.\nThe current approximation of RV `lambda_0_hc_L2_log_raw_`.ravel()[2] is NaN.\nThe current approximation of RV `lambda_0_hc_L2_log_raw_`.ravel()[3] is NaN.\nThe current approximation of RV `lambda_0_hc_L2_log_raw_`.ravel()[4] is NaN.\nThe current approximation of RV `lambda_0_hc_L2_log_raw_`.ravel()[5] is NaN.\nThe current approximation of RV `lambda_0_hc_L2_log_raw_`.ravel()[6] is NaN.\nThe current approximation of RV `lambda_0_hc_L2_log_raw_`.ravel()[7] is NaN.\nThe current approximation of RV `lambda_0_hc_L2_log_raw_`.ravel()[8] is NaN.\nThe current approximation of RV `lambda_0_hc_L2_log_raw_`.ravel()[9] is NaN.\nThe current approximation of RV `lambda_0_hc_L2_log_raw_`.ravel()[10] is NaN.\nThe current approximation of RV `lambda_0_hc_L2_log_raw_`.ravel()[11] is NaN.\nThe current approximation of RV `lambda_0_hc_L2_log_raw_`.ravel()[12] is NaN.\nThe current approximation of RV `lambda_0_hc_L2_log_raw_`.ravel()[13] is NaN.\nThe current approximation of RV `lambda_0_hc_L2_log_raw_`.ravel()[14] is NaN.\nThe current approximation of RV `lambda_0_hc_L2_log_raw_`.ravel()[15] is NaN.\nThe current approximation of RV `transient_day_1_hc_L2_raw_`.ravel()[0] is NaN.\nThe current approximation of RV `transient_day_1_hc_L2_raw_`.ravel()[1] is NaN.\nThe current approximation of RV `transient_day_1_hc_L2_raw_`.ravel()[2] is NaN.\nThe current approximation of RV `transient_day_1_hc_L2_raw_`.ravel()[3] is NaN.\nThe current approximation of RV `transient_day_1_hc_L2_raw_`.ravel()[4] is NaN.\nThe current approximation of RV `transient_day_1_hc_L2_raw_`.ravel()[5] is NaN.\nThe current approximation of RV `transient_day_1_hc_L2_raw_`.ravel()[6] is NaN.\nThe current approximation of RV `transient_day_1_hc_L2_raw_`.ravel()[7] is NaN.\nThe current approximation of RV `transient_day_1_hc_L2_raw_`.ravel()[8] is NaN.\nThe current approximation of RV `transient_day_1_hc_L2_raw_`.ravel()[9] is NaN.\nThe current approximation of RV `transient_day_1_hc_L2_raw_`.ravel()[10] is NaN.\nThe current approximation of RV `transient_day_1_hc_L2_raw_`.ravel()[11] is NaN.\nThe current approximation of RV `transient_day_1_hc_L2_raw_`.ravel()[12] is NaN.\nThe current approximation of RV `transient_day_1_hc_L2_raw_`.ravel()[13] is NaN.\nThe current approximation of RV `transient_day_1_hc_L2_raw_`.ravel()[14] is NaN.\nThe current approximation of RV `transient_day_1_hc_L2_raw_`.ravel()[15] is NaN.\nThe current approximation of RV `mu_log__`.ravel()[0] is NaN.\nThe current approximation of RV `delay_hc_L2_log_raw_`.ravel()[0] is NaN.\nThe current approximation of RV `delay_hc_L2_log_raw_`.ravel()[1] is NaN.\nThe current approximation of RV `delay_hc_L2_log_raw_`.ravel()[2] is NaN.\nThe current approximation of RV `delay_hc_L2_log_raw_`.ravel()[3] is NaN.\nThe current approximation of RV `delay_hc_L2_log_raw_`.ravel()[4] is NaN.\nThe current approximation of RV `delay_hc_L2_log_raw_`.ravel()[5] is NaN.\nThe current approximation of RV `delay_hc_L2_log_raw_`.ravel()[6] is NaN.\nThe current approximation of RV `delay_hc_L2_log_raw_`.ravel()[7] is NaN.\nThe current approximation of RV `delay_hc_L2_log_raw_`.ravel()[8] is NaN.\nThe current approximation of RV `delay_hc_L2_log_raw_`.ravel()[9] is NaN.\nThe current approximation of RV `delay_hc_L2_log_raw_`.ravel()[10] is NaN.\nThe current approximation of RV `delay_hc_L2_log_raw_`.ravel()[11] is NaN.\nThe current approximation of RV `delay_hc_L2_log_raw_`.ravel()[12] is NaN.\nThe current approximation of RV `delay_hc_L2_log_raw_`.ravel()[13] is NaN.\nThe current approximation of RV `delay_hc_L2_log_raw_`.ravel()[14] is NaN.\nThe current approximation of RV `delay_hc_L2_log_raw_`.ravel()[15] is NaN.\nThe current approximation of RV `transient_len_3_hc_L1_log`.ravel()[0] is NaN.\nThe current approximation of RV `weekend_factor_hc_L2_log_raw_`.ravel()[0] is NaN.\nThe current approximation of RV `weekend_factor_hc_L2_log_raw_`.ravel()[1] is NaN.\nThe current approximation of RV `weekend_factor_hc_L2_log_raw_`.ravel()[2] is NaN.\nThe current approximation of RV `weekend_factor_hc_L2_log_raw_`.ravel()[3] is NaN.\nThe current approximation of RV `weekend_factor_hc_L2_log_raw_`.ravel()[4] is NaN.\nThe current approximation of RV `weekend_factor_hc_L2_log_raw_`.ravel()[5] is NaN.\nThe current approximation of RV `weekend_factor_hc_L2_log_raw_`.ravel()[6] is NaN.\nThe current approximation of RV `weekend_factor_hc_L2_log_raw_`.ravel()[7] is NaN.\nThe current approximation of RV `weekend_factor_hc_L2_log_raw_`.ravel()[8] is NaN.\nThe current approximation of RV `weekend_factor_hc_L2_log_raw_`.ravel()[9] is NaN.\nThe current approximation of RV `weekend_factor_hc_L2_log_raw_`.ravel()[10] is NaN.\nThe current approximation of RV `weekend_factor_hc_L2_log_raw_`.ravel()[11] is NaN.\nThe current approximation of RV `weekend_factor_hc_L2_log_raw_`.ravel()[12] is NaN.\nThe current approximation of RV `weekend_factor_hc_L2_log_raw_`.ravel()[13] is NaN.\nThe current approximation of RV `weekend_factor_hc_L2_log_raw_`.ravel()[14] is NaN.\nThe current approximation of RV `weekend_factor_hc_L2_log_raw_`.ravel()[15] is NaN.\nThe current approximation of RV `lambda_0_hc_L1_log_`.ravel()[0] is NaN.\nThe current approximation of RV `transient_day_1_hc_L1`.ravel()[0] is NaN.\nThe current approximation of RV `offset_modulation_rad_circular__`.ravel()[0] is NaN.\nThe current approximation of RV `sigma_transient_day_1_L1_log__`.ravel()[0] is NaN.\nThe current approximation of RV `sigma_obs_log__`.ravel()[0] is NaN.\nThe current approximation of RV `sigma_obs_log__`.ravel()[1] is NaN.\nThe current approximation of RV `sigma_obs_log__`.ravel()[2] is NaN.\nThe current approximation of RV `sigma_obs_log__`.ravel()[3] is NaN.\nThe current approximation of RV `sigma_obs_log__`.ravel()[4] is NaN.\nThe current approximation of RV `sigma_obs_log__`.ravel()[5] is NaN.\nThe current approximation of RV `sigma_obs_log__`.ravel()[6] is NaN.\nThe current approximation of RV `sigma_obs_log__`.ravel()[7] is NaN.\nThe current approximation of RV `sigma_obs_log__`.ravel()[8] is NaN.\nThe current approximation of RV `sigma_obs_log__`.ravel()[9] is NaN.\nThe current approximation of RV `sigma_obs_log__`.ravel()[10] is NaN.\nThe current approximation of RV `sigma_obs_log__`.ravel()[11] is NaN.\nThe current approximation of RV `sigma_obs_log__`.ravel()[12] is NaN.\nThe current approximation of RV `sigma_obs_log__`.ravel()[13] is NaN.\nThe current approximation of RV `sigma_obs_log__`.ravel()[14] is NaN.\nThe current approximation of RV `sigma_obs_log__`.ravel()[15] is NaN.\nThe current approximation of RV `sigma_transient_len_3_log__`.ravel()[0] is NaN.\nThe current approximation of RV `I_begin_ratio_log`.ravel()[0] is NaN.\nThe current approximation of RV `I_begin_ratio_log`.ravel()[1] is NaN.\nThe current approximation of RV `I_begin_ratio_log`.ravel()[2] is NaN.\nThe current approximation of RV `I_begin_ratio_log`.ravel()[3] is NaN.\nThe current approximation of RV `I_begin_ratio_log`.ravel()[4] is NaN.\nThe current approximation of RV `I_begin_ratio_log`.ravel()[5] is NaN.\nThe current approximation of RV `I_begin_ratio_log`.ravel()[6] is NaN.\nThe current approximation of RV `I_begin_ratio_log`.ravel()[7] is NaN.\nThe current approximation of RV `I_begin_ratio_log`.ravel()[8] is NaN.\nThe current approximation of RV `I_begin_ratio_log`.ravel()[9] is NaN.\nThe current approximation of RV `I_begin_ratio_log`.ravel()[10] is NaN.\nThe current approximation of RV `I_begin_ratio_log`.ravel()[11] is NaN.\nThe current approximation of RV `I_begin_ratio_log`.ravel()[12] is NaN.\nThe current approximation of RV `I_begin_ratio_log`.ravel()[13] is NaN.\nThe current approximation of RV `I_begin_ratio_log`.ravel()[14] is NaN.\nThe current approximation of RV `I_begin_ratio_log`.ravel()[15] is NaN.\nThe current approximation of RV `lambda_1_hc_L1_log`.ravel()[0] is NaN.\nThe current approximation of RV `transient_len_3_hc_L2_log_raw_`.ravel()[0] is NaN.\nThe current approximation of RV `transient_len_3_hc_L2_log_raw_`.ravel()[1] is NaN.\nThe current approximation of RV `transient_len_3_hc_L2_log_raw_`.ravel()[2] is NaN.\nThe current approximation of RV `transient_len_3_hc_L2_log_raw_`.ravel()[3] is NaN.\nThe current approximation of RV `transient_len_3_hc_L2_log_raw_`.ravel()[4] is NaN.\nThe current approximation of RV `transient_len_3_hc_L2_log_raw_`.ravel()[5] is NaN.\nThe current approximation of RV `transient_len_3_hc_L2_log_raw_`.ravel()[6] is NaN.\nThe current approximation of RV `transient_len_3_hc_L2_log_raw_`.ravel()[7] is NaN.\nThe current approximation of RV `transient_len_3_hc_L2_log_raw_`.ravel()[8] is NaN.\nThe current approximation of RV `transient_len_3_hc_L2_log_raw_`.ravel()[9] is NaN.\nThe current approximation of RV `transient_len_3_hc_L2_log_raw_`.ravel()[10] is NaN.\nThe current approximation of RV `transient_len_3_hc_L2_log_raw_`.ravel()[11] is NaN.\nThe current approximation of RV `transient_len_3_hc_L2_log_raw_`.ravel()[12] is NaN.\nThe current approximation of RV `transient_len_3_hc_L2_log_raw_`.ravel()[13] is NaN.\nThe current approximation of RV `transient_len_3_hc_L2_log_raw_`.ravel()[14] is NaN.\nThe current approximation of RV `transient_len_3_hc_L2_log_raw_`.ravel()[15] is NaN.\nThe current approximation of RV `delay_hc_sigma_log__`.ravel()[0] is NaN.\nThe current approximation of RV `sigma_weekend_factor_log__`.ravel()[0] is NaN.\nThe current approximation of RV `sigma_lambda_1_hc_L1_log__`.ravel()[0] is NaN.\nThe current approximation of RV `delay_hc_L1_log`.ravel()[0] is NaN.\nThe current approximation of RV `lambda_1_hc_L2_log_raw_`.ravel()[0] is NaN.\nThe current approximation of RV `lambda_1_hc_L2_log_raw_`.ravel()[1] is NaN.\nThe current approximation of RV `lambda_1_hc_L2_log_raw_`.ravel()[2] is NaN.\nThe current approximation of RV `lambda_1_hc_L2_log_raw_`.ravel()[3] is NaN.\nThe current approximation of RV `lambda_1_hc_L2_log_raw_`.ravel()[4] is NaN.\nThe current approximation of RV `lambda_1_hc_L2_log_raw_`.ravel()[5] is NaN.\nThe current approximation of RV `lambda_1_hc_L2_log_raw_`.ravel()[6] is NaN.\nThe current approximation of RV `lambda_1_hc_L2_log_raw_`.ravel()[7] is NaN.\nThe current approximation of RV `lambda_1_hc_L2_log_raw_`.ravel()[8] is NaN.\nThe current approximation of RV `lambda_1_hc_L2_log_raw_`.ravel()[9] is NaN.\nThe current approximation of RV `lambda_1_hc_L2_log_raw_`.ravel()[10] is NaN.\nThe current approximation of RV `lambda_1_hc_L2_log_raw_`.ravel()[11] is NaN.\nThe current approximation of RV `lambda_1_hc_L2_log_raw_`.ravel()[12] is NaN.\nThe current approximation of RV `lambda_1_hc_L2_log_raw_`.ravel()[13] is NaN.\nThe current approximation of RV `lambda_1_hc_L2_log_raw_`.ravel()[14] is NaN.\nThe current approximation of RV `lambda_1_hc_L2_log_raw_`.ravel()[15] is NaN.\nThe current approximation of RV `weekend_factor_hc_L1_log`.ravel()[0] is NaN.\nTry tracking this parameter: http://docs.pymc.io/notebooks/variational_api_quickstart.html#Tracking-parameters",
     "output_type": "error",
     "traceback": [
      "\u001b[1;31m---------------------------------------------------------------------------\u001b[0m",
      "\u001b[1;31mFloatingPointError\u001b[0m                        Traceback (most recent call last)",
      "\u001b[1;32m<ipython-input-11-4c9e4de60d32>\u001b[0m in \u001b[0;36m<module>\u001b[1;34m\u001b[0m\n\u001b[1;32m----> 1\u001b[1;33m \u001b[0mtrace\u001b[0m \u001b[1;33m=\u001b[0m \u001b[0mpm\u001b[0m\u001b[1;33m.\u001b[0m\u001b[0msample\u001b[0m\u001b[1;33m(\u001b[0m\u001b[0mmodel\u001b[0m\u001b[1;33m=\u001b[0m\u001b[0mthis_model\u001b[0m\u001b[1;33m,\u001b[0m \u001b[0mtune\u001b[0m\u001b[1;33m=\u001b[0m\u001b[1;36m1000\u001b[0m\u001b[1;33m,\u001b[0m \u001b[0mdraws\u001b[0m\u001b[1;33m=\u001b[0m\u001b[1;36m1000\u001b[0m\u001b[1;33m,\u001b[0m \u001b[0minit\u001b[0m\u001b[1;33m=\u001b[0m\u001b[1;34m\"advi+adapt_diag\"\u001b[0m\u001b[1;33m)\u001b[0m\u001b[1;33m\u001b[0m\u001b[1;33m\u001b[0m\u001b[0m\n\u001b[0m",
      "\u001b[1;32m~\\Anaconda3\\lib\\site-packages\\pymc3\\sampling.py\u001b[0m in \u001b[0;36msample\u001b[1;34m(draws, step, init, n_init, start, trace, chain_idx, chains, cores, tune, progressbar, model, random_seed, discard_tuned_samples, compute_convergence_checks, callback, return_inferencedata, idata_kwargs, **kwargs)\u001b[0m\n\u001b[0;32m    471\u001b[0m                 \u001b[0mrandom_seed\u001b[0m\u001b[1;33m=\u001b[0m\u001b[0mrandom_seed\u001b[0m\u001b[1;33m,\u001b[0m\u001b[1;33m\u001b[0m\u001b[1;33m\u001b[0m\u001b[0m\n\u001b[0;32m    472\u001b[0m                 \u001b[0mprogressbar\u001b[0m\u001b[1;33m=\u001b[0m\u001b[0mprogressbar\u001b[0m\u001b[1;33m,\u001b[0m\u001b[1;33m\u001b[0m\u001b[1;33m\u001b[0m\u001b[0m\n\u001b[1;32m--> 473\u001b[1;33m                 \u001b[1;33m**\u001b[0m\u001b[0mkwargs\u001b[0m\u001b[1;33m\u001b[0m\u001b[1;33m\u001b[0m\u001b[0m\n\u001b[0m\u001b[0;32m    474\u001b[0m             )\n\u001b[0;32m    475\u001b[0m             \u001b[1;32mif\u001b[0m \u001b[0mstart\u001b[0m \u001b[1;32mis\u001b[0m \u001b[1;32mNone\u001b[0m\u001b[1;33m:\u001b[0m\u001b[1;33m\u001b[0m\u001b[1;33m\u001b[0m\u001b[0m\n",
      "\u001b[1;32m~\\Anaconda3\\lib\\site-packages\\pymc3\\sampling.py\u001b[0m in \u001b[0;36minit_nuts\u001b[1;34m(init, chains, n_init, model, random_seed, progressbar, **kwargs)\u001b[0m\n\u001b[0;32m   1987\u001b[0m             \u001b[0mcallbacks\u001b[0m\u001b[1;33m=\u001b[0m\u001b[0mcb\u001b[0m\u001b[1;33m,\u001b[0m\u001b[1;33m\u001b[0m\u001b[1;33m\u001b[0m\u001b[0m\n\u001b[0;32m   1988\u001b[0m             \u001b[0mprogressbar\u001b[0m\u001b[1;33m=\u001b[0m\u001b[0mprogressbar\u001b[0m\u001b[1;33m,\u001b[0m\u001b[1;33m\u001b[0m\u001b[1;33m\u001b[0m\u001b[0m\n\u001b[1;32m-> 1989\u001b[1;33m             \u001b[0mobj_optimizer\u001b[0m\u001b[1;33m=\u001b[0m\u001b[0mpm\u001b[0m\u001b[1;33m.\u001b[0m\u001b[0madagrad_window\u001b[0m\u001b[1;33m,\u001b[0m\u001b[1;33m\u001b[0m\u001b[1;33m\u001b[0m\u001b[0m\n\u001b[0m\u001b[0;32m   1990\u001b[0m         )  # type: pm.MeanField\n\u001b[0;32m   1991\u001b[0m         \u001b[0mstart\u001b[0m \u001b[1;33m=\u001b[0m \u001b[0mapprox\u001b[0m\u001b[1;33m.\u001b[0m\u001b[0msample\u001b[0m\u001b[1;33m(\u001b[0m\u001b[0mdraws\u001b[0m\u001b[1;33m=\u001b[0m\u001b[0mchains\u001b[0m\u001b[1;33m)\u001b[0m\u001b[1;33m\u001b[0m\u001b[1;33m\u001b[0m\u001b[0m\n",
      "\u001b[1;32m~\\Anaconda3\\lib\\site-packages\\pymc3\\variational\\inference.py\u001b[0m in \u001b[0;36mfit\u001b[1;34m(n, local_rv, method, model, random_seed, start, inf_kwargs, **kwargs)\u001b[0m\n\u001b[0;32m    838\u001b[0m             \u001b[1;34mf\"method should be one of {set(_select.keys())} or Inference instance\"\u001b[0m\u001b[1;33m\u001b[0m\u001b[1;33m\u001b[0m\u001b[0m\n\u001b[0;32m    839\u001b[0m         )\n\u001b[1;32m--> 840\u001b[1;33m     \u001b[1;32mreturn\u001b[0m \u001b[0minference\u001b[0m\u001b[1;33m.\u001b[0m\u001b[0mfit\u001b[0m\u001b[1;33m(\u001b[0m\u001b[0mn\u001b[0m\u001b[1;33m,\u001b[0m \u001b[1;33m**\u001b[0m\u001b[0mkwargs\u001b[0m\u001b[1;33m)\u001b[0m\u001b[1;33m\u001b[0m\u001b[1;33m\u001b[0m\u001b[0m\n\u001b[0m",
      "\u001b[1;32m~\\Anaconda3\\lib\\site-packages\\pymc3\\variational\\inference.py\u001b[0m in \u001b[0;36mfit\u001b[1;34m(self, n, score, callbacks, progressbar, **kwargs)\u001b[0m\n\u001b[0;32m    149\u001b[0m             \u001b[0mprogress\u001b[0m \u001b[1;33m=\u001b[0m \u001b[0mrange\u001b[0m\u001b[1;33m(\u001b[0m\u001b[0mn\u001b[0m\u001b[1;33m)\u001b[0m\u001b[1;33m\u001b[0m\u001b[1;33m\u001b[0m\u001b[0m\n\u001b[0;32m    150\u001b[0m         \u001b[1;32mif\u001b[0m \u001b[0mscore\u001b[0m\u001b[1;33m:\u001b[0m\u001b[1;33m\u001b[0m\u001b[1;33m\u001b[0m\u001b[0m\n\u001b[1;32m--> 151\u001b[1;33m             \u001b[0mstate\u001b[0m \u001b[1;33m=\u001b[0m \u001b[0mself\u001b[0m\u001b[1;33m.\u001b[0m\u001b[0m_iterate_with_loss\u001b[0m\u001b[1;33m(\u001b[0m\u001b[1;36m0\u001b[0m\u001b[1;33m,\u001b[0m \u001b[0mn\u001b[0m\u001b[1;33m,\u001b[0m \u001b[0mstep_func\u001b[0m\u001b[1;33m,\u001b[0m \u001b[0mprogress\u001b[0m\u001b[1;33m,\u001b[0m \u001b[0mcallbacks\u001b[0m\u001b[1;33m)\u001b[0m\u001b[1;33m\u001b[0m\u001b[1;33m\u001b[0m\u001b[0m\n\u001b[0m\u001b[0;32m    152\u001b[0m         \u001b[1;32melse\u001b[0m\u001b[1;33m:\u001b[0m\u001b[1;33m\u001b[0m\u001b[1;33m\u001b[0m\u001b[0m\n\u001b[0;32m    153\u001b[0m             \u001b[0mstate\u001b[0m \u001b[1;33m=\u001b[0m \u001b[0mself\u001b[0m\u001b[1;33m.\u001b[0m\u001b[0m_iterate_without_loss\u001b[0m\u001b[1;33m(\u001b[0m\u001b[1;36m0\u001b[0m\u001b[1;33m,\u001b[0m \u001b[0mn\u001b[0m\u001b[1;33m,\u001b[0m \u001b[0mstep_func\u001b[0m\u001b[1;33m,\u001b[0m \u001b[0mprogress\u001b[0m\u001b[1;33m,\u001b[0m \u001b[0mcallbacks\u001b[0m\u001b[1;33m)\u001b[0m\u001b[1;33m\u001b[0m\u001b[1;33m\u001b[0m\u001b[0m\n",
      "\u001b[1;32m~\\Anaconda3\\lib\\site-packages\\pymc3\\variational\\inference.py\u001b[0m in \u001b[0;36m_iterate_with_loss\u001b[1;34m(self, s, n, step_func, progress, callbacks)\u001b[0m\n\u001b[0;32m    237\u001b[0m                     \u001b[1;32mexcept\u001b[0m \u001b[0mIndexError\u001b[0m\u001b[1;33m:\u001b[0m\u001b[1;33m\u001b[0m\u001b[1;33m\u001b[0m\u001b[0m\n\u001b[0;32m    238\u001b[0m                         \u001b[1;32mpass\u001b[0m\u001b[1;33m\u001b[0m\u001b[1;33m\u001b[0m\u001b[0m\n\u001b[1;32m--> 239\u001b[1;33m                     \u001b[1;32mraise\u001b[0m \u001b[0mFloatingPointError\u001b[0m\u001b[1;33m(\u001b[0m\u001b[1;34m\"\\n\"\u001b[0m\u001b[1;33m.\u001b[0m\u001b[0mjoin\u001b[0m\u001b[1;33m(\u001b[0m\u001b[0merrmsg\u001b[0m\u001b[1;33m)\u001b[0m\u001b[1;33m)\u001b[0m\u001b[1;33m\u001b[0m\u001b[1;33m\u001b[0m\u001b[0m\n\u001b[0m\u001b[0;32m    240\u001b[0m                 \u001b[0mscores\u001b[0m\u001b[1;33m[\u001b[0m\u001b[0mi\u001b[0m\u001b[1;33m]\u001b[0m \u001b[1;33m=\u001b[0m \u001b[0me\u001b[0m\u001b[1;33m\u001b[0m\u001b[1;33m\u001b[0m\u001b[0m\n\u001b[0;32m    241\u001b[0m                 \u001b[1;32mif\u001b[0m \u001b[0mi\u001b[0m \u001b[1;33m%\u001b[0m \u001b[1;36m10\u001b[0m \u001b[1;33m==\u001b[0m \u001b[1;36m0\u001b[0m\u001b[1;33m:\u001b[0m\u001b[1;33m\u001b[0m\u001b[1;33m\u001b[0m\u001b[0m\n",
      "\u001b[1;31mFloatingPointError\u001b[0m: NaN occurred in optimization. \nThe current approximation of RV `sigma_lambda_0_hc_L1_log__`.ravel()[0] is NaN.\nThe current approximation of RV `lambda_0_hc_L2_log_raw_`.ravel()[0] is NaN.\nThe current approximation of RV `lambda_0_hc_L2_log_raw_`.ravel()[1] is NaN.\nThe current approximation of RV `lambda_0_hc_L2_log_raw_`.ravel()[2] is NaN.\nThe current approximation of RV `lambda_0_hc_L2_log_raw_`.ravel()[3] is NaN.\nThe current approximation of RV `lambda_0_hc_L2_log_raw_`.ravel()[4] is NaN.\nThe current approximation of RV `lambda_0_hc_L2_log_raw_`.ravel()[5] is NaN.\nThe current approximation of RV `lambda_0_hc_L2_log_raw_`.ravel()[6] is NaN.\nThe current approximation of RV `lambda_0_hc_L2_log_raw_`.ravel()[7] is NaN.\nThe current approximation of RV `lambda_0_hc_L2_log_raw_`.ravel()[8] is NaN.\nThe current approximation of RV `lambda_0_hc_L2_log_raw_`.ravel()[9] is NaN.\nThe current approximation of RV `lambda_0_hc_L2_log_raw_`.ravel()[10] is NaN.\nThe current approximation of RV `lambda_0_hc_L2_log_raw_`.ravel()[11] is NaN.\nThe current approximation of RV `lambda_0_hc_L2_log_raw_`.ravel()[12] is NaN.\nThe current approximation of RV `lambda_0_hc_L2_log_raw_`.ravel()[13] is NaN.\nThe current approximation of RV `lambda_0_hc_L2_log_raw_`.ravel()[14] is NaN.\nThe current approximation of RV `lambda_0_hc_L2_log_raw_`.ravel()[15] is NaN.\nThe current approximation of RV `transient_day_1_hc_L2_raw_`.ravel()[0] is NaN.\nThe current approximation of RV `transient_day_1_hc_L2_raw_`.ravel()[1] is NaN.\nThe current approximation of RV `transient_day_1_hc_L2_raw_`.ravel()[2] is NaN.\nThe current approximation of RV `transient_day_1_hc_L2_raw_`.ravel()[3] is NaN.\nThe current approximation of RV `transient_day_1_hc_L2_raw_`.ravel()[4] is NaN.\nThe current approximation of RV `transient_day_1_hc_L2_raw_`.ravel()[5] is NaN.\nThe current approximation of RV `transient_day_1_hc_L2_raw_`.ravel()[6] is NaN.\nThe current approximation of RV `transient_day_1_hc_L2_raw_`.ravel()[7] is NaN.\nThe current approximation of RV `transient_day_1_hc_L2_raw_`.ravel()[8] is NaN.\nThe current approximation of RV `transient_day_1_hc_L2_raw_`.ravel()[9] is NaN.\nThe current approximation of RV `transient_day_1_hc_L2_raw_`.ravel()[10] is NaN.\nThe current approximation of RV `transient_day_1_hc_L2_raw_`.ravel()[11] is NaN.\nThe current approximation of RV `transient_day_1_hc_L2_raw_`.ravel()[12] is NaN.\nThe current approximation of RV `transient_day_1_hc_L2_raw_`.ravel()[13] is NaN.\nThe current approximation of RV `transient_day_1_hc_L2_raw_`.ravel()[14] is NaN.\nThe current approximation of RV `transient_day_1_hc_L2_raw_`.ravel()[15] is NaN.\nThe current approximation of RV `mu_log__`.ravel()[0] is NaN.\nThe current approximation of RV `delay_hc_L2_log_raw_`.ravel()[0] is NaN.\nThe current approximation of RV `delay_hc_L2_log_raw_`.ravel()[1] is NaN.\nThe current approximation of RV `delay_hc_L2_log_raw_`.ravel()[2] is NaN.\nThe current approximation of RV `delay_hc_L2_log_raw_`.ravel()[3] is NaN.\nThe current approximation of RV `delay_hc_L2_log_raw_`.ravel()[4] is NaN.\nThe current approximation of RV `delay_hc_L2_log_raw_`.ravel()[5] is NaN.\nThe current approximation of RV `delay_hc_L2_log_raw_`.ravel()[6] is NaN.\nThe current approximation of RV `delay_hc_L2_log_raw_`.ravel()[7] is NaN.\nThe current approximation of RV `delay_hc_L2_log_raw_`.ravel()[8] is NaN.\nThe current approximation of RV `delay_hc_L2_log_raw_`.ravel()[9] is NaN.\nThe current approximation of RV `delay_hc_L2_log_raw_`.ravel()[10] is NaN.\nThe current approximation of RV `delay_hc_L2_log_raw_`.ravel()[11] is NaN.\nThe current approximation of RV `delay_hc_L2_log_raw_`.ravel()[12] is NaN.\nThe current approximation of RV `delay_hc_L2_log_raw_`.ravel()[13] is NaN.\nThe current approximation of RV `delay_hc_L2_log_raw_`.ravel()[14] is NaN.\nThe current approximation of RV `delay_hc_L2_log_raw_`.ravel()[15] is NaN.\nThe current approximation of RV `transient_len_3_hc_L1_log`.ravel()[0] is NaN.\nThe current approximation of RV `weekend_factor_hc_L2_log_raw_`.ravel()[0] is NaN.\nThe current approximation of RV `weekend_factor_hc_L2_log_raw_`.ravel()[1] is NaN.\nThe current approximation of RV `weekend_factor_hc_L2_log_raw_`.ravel()[2] is NaN.\nThe current approximation of RV `weekend_factor_hc_L2_log_raw_`.ravel()[3] is NaN.\nThe current approximation of RV `weekend_factor_hc_L2_log_raw_`.ravel()[4] is NaN.\nThe current approximation of RV `weekend_factor_hc_L2_log_raw_`.ravel()[5] is NaN.\nThe current approximation of RV `weekend_factor_hc_L2_log_raw_`.ravel()[6] is NaN.\nThe current approximation of RV `weekend_factor_hc_L2_log_raw_`.ravel()[7] is NaN.\nThe current approximation of RV `weekend_factor_hc_L2_log_raw_`.ravel()[8] is NaN.\nThe current approximation of RV `weekend_factor_hc_L2_log_raw_`.ravel()[9] is NaN.\nThe current approximation of RV `weekend_factor_hc_L2_log_raw_`.ravel()[10] is NaN.\nThe current approximation of RV `weekend_factor_hc_L2_log_raw_`.ravel()[11] is NaN.\nThe current approximation of RV `weekend_factor_hc_L2_log_raw_`.ravel()[12] is NaN.\nThe current approximation of RV `weekend_factor_hc_L2_log_raw_`.ravel()[13] is NaN.\nThe current approximation of RV `weekend_factor_hc_L2_log_raw_`.ravel()[14] is NaN.\nThe current approximation of RV `weekend_factor_hc_L2_log_raw_`.ravel()[15] is NaN.\nThe current approximation of RV `lambda_0_hc_L1_log_`.ravel()[0] is NaN.\nThe current approximation of RV `transient_day_1_hc_L1`.ravel()[0] is NaN.\nThe current approximation of RV `offset_modulation_rad_circular__`.ravel()[0] is NaN.\nThe current approximation of RV `sigma_transient_day_1_L1_log__`.ravel()[0] is NaN.\nThe current approximation of RV `sigma_obs_log__`.ravel()[0] is NaN.\nThe current approximation of RV `sigma_obs_log__`.ravel()[1] is NaN.\nThe current approximation of RV `sigma_obs_log__`.ravel()[2] is NaN.\nThe current approximation of RV `sigma_obs_log__`.ravel()[3] is NaN.\nThe current approximation of RV `sigma_obs_log__`.ravel()[4] is NaN.\nThe current approximation of RV `sigma_obs_log__`.ravel()[5] is NaN.\nThe current approximation of RV `sigma_obs_log__`.ravel()[6] is NaN.\nThe current approximation of RV `sigma_obs_log__`.ravel()[7] is NaN.\nThe current approximation of RV `sigma_obs_log__`.ravel()[8] is NaN.\nThe current approximation of RV `sigma_obs_log__`.ravel()[9] is NaN.\nThe current approximation of RV `sigma_obs_log__`.ravel()[10] is NaN.\nThe current approximation of RV `sigma_obs_log__`.ravel()[11] is NaN.\nThe current approximation of RV `sigma_obs_log__`.ravel()[12] is NaN.\nThe current approximation of RV `sigma_obs_log__`.ravel()[13] is NaN.\nThe current approximation of RV `sigma_obs_log__`.ravel()[14] is NaN.\nThe current approximation of RV `sigma_obs_log__`.ravel()[15] is NaN.\nThe current approximation of RV `sigma_transient_len_3_log__`.ravel()[0] is NaN.\nThe current approximation of RV `I_begin_ratio_log`.ravel()[0] is NaN.\nThe current approximation of RV `I_begin_ratio_log`.ravel()[1] is NaN.\nThe current approximation of RV `I_begin_ratio_log`.ravel()[2] is NaN.\nThe current approximation of RV `I_begin_ratio_log`.ravel()[3] is NaN.\nThe current approximation of RV `I_begin_ratio_log`.ravel()[4] is NaN.\nThe current approximation of RV `I_begin_ratio_log`.ravel()[5] is NaN.\nThe current approximation of RV `I_begin_ratio_log`.ravel()[6] is NaN.\nThe current approximation of RV `I_begin_ratio_log`.ravel()[7] is NaN.\nThe current approximation of RV `I_begin_ratio_log`.ravel()[8] is NaN.\nThe current approximation of RV `I_begin_ratio_log`.ravel()[9] is NaN.\nThe current approximation of RV `I_begin_ratio_log`.ravel()[10] is NaN.\nThe current approximation of RV `I_begin_ratio_log`.ravel()[11] is NaN.\nThe current approximation of RV `I_begin_ratio_log`.ravel()[12] is NaN.\nThe current approximation of RV `I_begin_ratio_log`.ravel()[13] is NaN.\nThe current approximation of RV `I_begin_ratio_log`.ravel()[14] is NaN.\nThe current approximation of RV `I_begin_ratio_log`.ravel()[15] is NaN.\nThe current approximation of RV `lambda_1_hc_L1_log`.ravel()[0] is NaN.\nThe current approximation of RV `transient_len_3_hc_L2_log_raw_`.ravel()[0] is NaN.\nThe current approximation of RV `transient_len_3_hc_L2_log_raw_`.ravel()[1] is NaN.\nThe current approximation of RV `transient_len_3_hc_L2_log_raw_`.ravel()[2] is NaN.\nThe current approximation of RV `transient_len_3_hc_L2_log_raw_`.ravel()[3] is NaN.\nThe current approximation of RV `transient_len_3_hc_L2_log_raw_`.ravel()[4] is NaN.\nThe current approximation of RV `transient_len_3_hc_L2_log_raw_`.ravel()[5] is NaN.\nThe current approximation of RV `transient_len_3_hc_L2_log_raw_`.ravel()[6] is NaN.\nThe current approximation of RV `transient_len_3_hc_L2_log_raw_`.ravel()[7] is NaN.\nThe current approximation of RV `transient_len_3_hc_L2_log_raw_`.ravel()[8] is NaN.\nThe current approximation of RV `transient_len_3_hc_L2_log_raw_`.ravel()[9] is NaN.\nThe current approximation of RV `transient_len_3_hc_L2_log_raw_`.ravel()[10] is NaN.\nThe current approximation of RV `transient_len_3_hc_L2_log_raw_`.ravel()[11] is NaN.\nThe current approximation of RV `transient_len_3_hc_L2_log_raw_`.ravel()[12] is NaN.\nThe current approximation of RV `transient_len_3_hc_L2_log_raw_`.ravel()[13] is NaN.\nThe current approximation of RV `transient_len_3_hc_L2_log_raw_`.ravel()[14] is NaN.\nThe current approximation of RV `transient_len_3_hc_L2_log_raw_`.ravel()[15] is NaN.\nThe current approximation of RV `delay_hc_sigma_log__`.ravel()[0] is NaN.\nThe current approximation of RV `sigma_weekend_factor_log__`.ravel()[0] is NaN.\nThe current approximation of RV `sigma_lambda_1_hc_L1_log__`.ravel()[0] is NaN.\nThe current approximation of RV `delay_hc_L1_log`.ravel()[0] is NaN.\nThe current approximation of RV `lambda_1_hc_L2_log_raw_`.ravel()[0] is NaN.\nThe current approximation of RV `lambda_1_hc_L2_log_raw_`.ravel()[1] is NaN.\nThe current approximation of RV `lambda_1_hc_L2_log_raw_`.ravel()[2] is NaN.\nThe current approximation of RV `lambda_1_hc_L2_log_raw_`.ravel()[3] is NaN.\nThe current approximation of RV `lambda_1_hc_L2_log_raw_`.ravel()[4] is NaN.\nThe current approximation of RV `lambda_1_hc_L2_log_raw_`.ravel()[5] is NaN.\nThe current approximation of RV `lambda_1_hc_L2_log_raw_`.ravel()[6] is NaN.\nThe current approximation of RV `lambda_1_hc_L2_log_raw_`.ravel()[7] is NaN.\nThe current approximation of RV `lambda_1_hc_L2_log_raw_`.ravel()[8] is NaN.\nThe current approximation of RV `lambda_1_hc_L2_log_raw_`.ravel()[9] is NaN.\nThe current approximation of RV `lambda_1_hc_L2_log_raw_`.ravel()[10] is NaN.\nThe current approximation of RV `lambda_1_hc_L2_log_raw_`.ravel()[11] is NaN.\nThe current approximation of RV `lambda_1_hc_L2_log_raw_`.ravel()[12] is NaN.\nThe current approximation of RV `lambda_1_hc_L2_log_raw_`.ravel()[13] is NaN.\nThe current approximation of RV `lambda_1_hc_L2_log_raw_`.ravel()[14] is NaN.\nThe current approximation of RV `lambda_1_hc_L2_log_raw_`.ravel()[15] is NaN.\nThe current approximation of RV `weekend_factor_hc_L1_log`.ravel()[0] is NaN.\nTry tracking this parameter: http://docs.pymc.io/notebooks/variational_api_quickstart.html#Tracking-parameters"
     ]
    }
   ],
   "source": [
    "trace = pm.sample(model=this_model, tune=1000, draws=1000, init=\"advi+adapt_diag\")"
   ]
  },
  {
   "cell_type": "markdown",
   "metadata": {},
   "source": [
    "\n",
    "\n",
    "# Plotting\n",
    "\n",
    "We below plot the posterior distributions of selected parameters,\n",
    "and the resulting number of cases for each state.\n",
    "\n",
    "### Variables\n",
    "\n",
    "The model uses a large number of parameters, and internally creates new versions\n",
    "(e.g. var_log_) for handling. All defined parameters can be found in\n",
    "`trace.varnames`, and the corresponding traces are found in `trace[varname]`.\n",
    "\n",
    "### Violin plots\n"
   ]
  },
  {
   "cell_type": "code",
   "execution_count": null,
   "metadata": {},
   "outputs": [],
   "source": [
    "# Defines plotted variables, their names and plotting range\n",
    "var_names = {\n",
    "    \"delay_hc_L2\": {\"name\": \"delay\", \"xlim\": [0, 14]},\n",
    "    \"I_begin\": {\"name\": r\"$I_0$\", \"xlim\": [0, 300]},\n",
    "    \"lambda_0_hc_L2\": {\"name\": r\"$\\lambda_0$\", \"xlim\": [0, 1]},\n",
    "    \"lambda_1_hc_L2\": {\"name\": r\"$\\lambda_1$\", \"xlim\": [0, 1]},\n",
    "    \"lambda_2_hc_L2\": {\"name\": r\"$\\lambda_2$\", \"xlim\": [0, 1]},\n",
    "    \"lambda_3_hc_L2\": {\"name\": r\"$\\lambda_3$\", \"xlim\": [0, 1]},\n",
    "    \"transient_day_1_hc_L2\": {\"name\": r\"$t_1$\", \"xlim\": [10, 40]},\n",
    "    \"transient_day_2_hc_L2\": {\"name\": r\"$t_2$\", \"xlim\": [10, 40]},\n",
    "    \"transient_day_3_hc_L2\": {\"name\": r\"$t_3$\", \"xlim\": [10, 40]},\n",
    "}"
   ]
  },
  {
   "cell_type": "code",
   "execution_count": null,
   "metadata": {
    "scrolled": false
   },
   "outputs": [],
   "source": [
    "# Plots violin plots\n",
    "for var_name in var_names.keys():\n",
    "    f, ax = plt.subplots()\n",
    "    ax.violinplot(trace[var_name], showextrema=False, vert=False, showmedians=True)\n",
    "    ax.set_yticks(np.arange(1, 17))\n",
    "    ax.set_yticklabels(df_bundeslaender.columns)\n",
    "    ax.set_xlabel(var_names[var_name][\"name\"])\n",
    "    ax.set_xlim(var_names[var_name][\"xlim\"])"
   ]
  },
  {
   "cell_type": "markdown",
   "metadata": {},
   "source": [
    "\n",
    "\n",
    "### Timeseries\n",
    "\n",
    "For every region (bundesland) we create a timeseries plot. For now new cases! TODO more\n"
   ]
  },
  {
   "cell_type": "code",
   "execution_count": null,
   "metadata": {},
   "outputs": [],
   "source": [
    "# First define the x range on which we want to plot. Should be within the simulation period.\n",
    "bd = datetime.datetime(2020, 3, 10)\n",
    "ed = datetime.datetime(2020, 4, 19) + datetime.timedelta(days=num_days_forecast - 1)"
   ]
  },
  {
   "cell_type": "code",
   "execution_count": null,
   "metadata": {},
   "outputs": [],
   "source": [
    "# Next we have to get our trace corresponding to that date range. We do that by calling the helper function `cov19.plot._get_array_from_trace_via_date()`.\n",
    "y_all_regions, x = cov19.plot._get_array_from_trace_via_date(\n",
    "    this_model, trace, \"new_cases\", bd, ed\n",
    ")"
   ]
  },
  {
   "cell_type": "code",
   "execution_count": null,
   "metadata": {},
   "outputs": [],
   "source": [
    "# After retrieving the trace var for our specified time period, we plot the timeseries for each region. Additionaly we set the format of the date (x-)axis.\n",
    "# We have 16 regions in this example -> we create 16 subplots\n",
    "fig, axes = plt.subplots(16, 1, figsize=(10, 35))"
   ]
  },
  {
   "cell_type": "code",
   "execution_count": null,
   "metadata": {},
   "outputs": [],
   "source": [
    "for i in range(16):\n",
    "    y = y_all_regions[:, :, i]\n",
    "    cov19.plot._timeseries(x, y, axes[i], what=\"fcast\")\n",
    "    axes[i].set_title(df_bundeslaender.columns[i])\n",
    "    cov19.plot._format_date_xticks(axes[i])"
   ]
  },
  {
   "cell_type": "code",
   "execution_count": null,
   "metadata": {},
   "outputs": [],
   "source": [
    "# Furthermore, we can plot our observable i.e. our new_cases_obs.\n",
    "x_dat = pd.date_range(this_model.data_begin, this_model.data_end)\n",
    "for i in range(16):\n",
    "    y = new_cases_obs[:, i]\n",
    "    cov19.plot._timeseries(x_dat, y, axes[i], what=\"data\", lw=0)"
   ]
  },
  {
   "cell_type": "code",
   "execution_count": null,
   "metadata": {},
   "outputs": [],
   "source": [
    "plt.tight_layout()\n",
    "fig #To show figure in jupyter notebook"
   ]
  }
 ],
 "metadata": {
  "kernelspec": {
   "display_name": "Python 3",
   "language": "python",
   "name": "python3"
  },
  "language_info": {
   "codemirror_mode": {
    "name": "ipython",
    "version": 3
   },
   "file_extension": ".py",
   "mimetype": "text/x-python",
   "name": "python",
   "nbconvert_exporter": "python",
   "pygments_lexer": "ipython3",
   "version": "3.7.6"
  }
 },
 "nbformat": 4,
 "nbformat_minor": 2
}
