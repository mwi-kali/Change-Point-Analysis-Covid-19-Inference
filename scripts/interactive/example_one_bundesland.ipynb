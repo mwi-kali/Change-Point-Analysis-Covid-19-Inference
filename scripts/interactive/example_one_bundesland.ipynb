{
 "cells": [
  {
   "cell_type": "markdown",
   "metadata": {},
   "source": [
    "[![Open In Colab](https://colab.research.google.com/assets/colab-badge.svg)](https://colab.research.google.com/github/Priesemann-Group/covid19_inference/blob/model_cleanup/scripts/interactive/example_one_bundesland.ipynb)"
   ]
  },
  {
   "cell_type": "code",
   "execution_count": 1,
   "metadata": {},
   "outputs": [
    {
     "name": "stdout",
     "output_type": "stream",
     "text": [
      "Collecting git+https://github.com/Priesemann-Group/covid19_inference.git\n",
      "  Cloning https://github.com/Priesemann-Group/covid19_inference.git to c:\\users\\smwik\\appdata\\local\\temp\\pip-req-build-0b0rpca0\n",
      "Requirement already satisfied: pymc3 in c:\\users\\smwik\\anaconda3\\lib\\site-packages (from covid19-inference==0.1.8a0) (3.9.2)\n",
      "Requirement already satisfied: matplotlib in c:\\users\\smwik\\anaconda3\\lib\\site-packages (from covid19-inference==0.1.8a0) (3.1.3)\n",
      "Requirement already satisfied: numpy in c:\\users\\smwik\\anaconda3\\lib\\site-packages (from covid19-inference==0.1.8a0) (1.19.0)\n",
      "Requirement already satisfied: pandas in c:\\users\\smwik\\anaconda3\\lib\\site-packages (from covid19-inference==0.1.8a0) (1.0.1)\n",
      "Requirement already satisfied: theano in c:\\users\\smwik\\anaconda3\\lib\\site-packages (from covid19-inference==0.1.8a0) (1.0.4)\n",
      "Requirement already satisfied: h5py>=2.7.0 in c:\\users\\smwik\\anaconda3\\lib\\site-packages (from pymc3->covid19-inference==0.1.8a0) (2.10.0)\n",
      "Requirement already satisfied: patsy>=0.5.1 in c:\\users\\smwik\\anaconda3\\lib\\site-packages (from pymc3->covid19-inference==0.1.8a0) (0.5.1)\n",
      "Requirement already satisfied: scipy>=0.18.1 in c:\\users\\smwik\\appdata\\roaming\\python\\python37\\site-packages (from pymc3->covid19-inference==0.1.8a0) (1.4.1)\n",
      "Requirement already satisfied: fastprogress>=0.2.0 in c:\\users\\smwik\\anaconda3\\lib\\site-packages (from pymc3->covid19-inference==0.1.8a0) (0.2.4)\n",
      "Requirement already satisfied: typing-extensions>=3.7.4 in c:\\users\\smwik\\anaconda3\\lib\\site-packages (from pymc3->covid19-inference==0.1.8a0) (3.7.4.2)\n",
      "Requirement already satisfied: arviz>=0.9.0 in c:\\users\\smwik\\anaconda3\\lib\\site-packages (from pymc3->covid19-inference==0.1.8a0) (0.9.0)\n",
      "Requirement already satisfied: cycler>=0.10 in c:\\users\\smwik\\anaconda3\\lib\\site-packages (from matplotlib->covid19-inference==0.1.8a0) (0.10.0)\n",
      "Requirement already satisfied: kiwisolver>=1.0.1 in c:\\users\\smwik\\anaconda3\\lib\\site-packages (from matplotlib->covid19-inference==0.1.8a0) (1.1.0)\n",
      "Requirement already satisfied: python-dateutil>=2.1 in c:\\users\\smwik\\anaconda3\\lib\\site-packages (from matplotlib->covid19-inference==0.1.8a0) (2.8.1)\n",
      "Requirement already satisfied: pyparsing!=2.0.4,!=2.1.2,!=2.1.6,>=2.0.1 in c:\\users\\smwik\\anaconda3\\lib\\site-packages (from matplotlib->covid19-inference==0.1.8a0) (2.4.6)\n",
      "Requirement already satisfied: pytz>=2017.2 in c:\\users\\smwik\\anaconda3\\lib\\site-packages (from pandas->covid19-inference==0.1.8a0) (2019.3)\n",
      "Requirement already satisfied: six>=1.9.0 in c:\\users\\smwik\\anaconda3\\lib\\site-packages (from theano->covid19-inference==0.1.8a0) (1.14.0)\n",
      "Requirement already satisfied: netcdf4 in c:\\users\\smwik\\anaconda3\\lib\\site-packages (from arviz>=0.9.0->pymc3->covid19-inference==0.1.8a0) (1.5.4)\n",
      "Requirement already satisfied: packaging in c:\\users\\smwik\\anaconda3\\lib\\site-packages (from arviz>=0.9.0->pymc3->covid19-inference==0.1.8a0) (20.1)\n",
      "Requirement already satisfied: xarray>=0.11 in c:\\users\\smwik\\anaconda3\\lib\\site-packages (from arviz>=0.9.0->pymc3->covid19-inference==0.1.8a0) (0.16.0)\n",
      "Requirement already satisfied: setuptools in c:\\users\\smwik\\anaconda3\\lib\\site-packages (from kiwisolver>=1.0.1->matplotlib->covid19-inference==0.1.8a0) (49.2.0)\n",
      "Requirement already satisfied: cftime in c:\\users\\smwik\\anaconda3\\lib\\site-packages (from netcdf4->arviz>=0.9.0->pymc3->covid19-inference==0.1.8a0) (1.2.1)\n",
      "Building wheels for collected packages: covid19-inference\n",
      "  Building wheel for covid19-inference (setup.py): started\n",
      "  Building wheel for covid19-inference (setup.py): finished with status 'done'\n",
      "  Created wheel for covid19-inference: filename=covid19_inference-0.1.8a0-py3-none-any.whl size=103629 sha256=1569d9918b6d1f913d93617b2a6c47bc5603185cacef32e52049dbf1d366466d\n",
      "  Stored in directory: C:\\Users\\smwik\\AppData\\Local\\Temp\\pip-ephem-wheel-cache-ui4d17nm\\wheels\\49\\b1\\39\\e7c95d0fd9fc85ca2618197f9099261dc2ec4099c681f9a8a1\n",
      "Successfully built covid19-inference\n",
      "Installing collected packages: covid19-inference\n",
      "Successfully installed covid19-inference-0.1.8a0\n"
     ]
    }
   ],
   "source": [
    "#!pip install git+https://github.com/Priesemann-Group/covid19_inference.git"
   ]
  },
  {
   "cell_type": "markdown",
   "metadata": {},
   "source": [
    "\n",
    "\n",
    "# Example for one region (bundesland)\n",
    "Non-hierarchical model using rki data.\n",
    "\n",
    "Runtime ~ 15 min\n",
    "\n",
    "The first thing we need to do is import some essential stuff. Theses have to be installed and are prerequisites.\n"
   ]
  },
  {
   "cell_type": "code",
   "execution_count": 2,
   "metadata": {},
   "outputs": [
    {
     "name": "stderr",
     "output_type": "stream",
     "text": [
      "WARNING (theano.configdefaults): g++ not available, if using conda: `conda install m2w64-toolchain`\n",
      "C:\\Users\\smwik\\Anaconda3\\lib\\site-packages\\theano\\configdefaults.py:560: UserWarning: DeprecationWarning: there is no c++ compiler.This is deprecated and with Theano 0.11 a c++ compiler will be mandatory\n",
      "  warnings.warn(\"DeprecationWarning: there is no c++ compiler.\"\n",
      "WARNING (theano.configdefaults): g++ not detected ! Theano will be unable to execute optimized C-implementations (for both CPU and GPU) and will default to Python implementations. Performance will be severely degraded. To remove this warning, set Theano flags cxx to an empty string.\n",
      "WARNING (theano.tensor.blas): Using NumPy C-API based implementation for BLAS functions.\n"
     ]
    }
   ],
   "source": [
    "import datetime\n",
    "import time as time_module\n",
    "import sys\n",
    "import pandas as pd\n",
    "import numpy as np\n",
    "import matplotlib as mpl\n",
    "import matplotlib.pyplot as plt\n",
    "import scipy.stats\n",
    "import theano\n",
    "import theano.tensor as tt\n",
    "import pymc3 as pm"
   ]
  },
  {
   "cell_type": "code",
   "execution_count": 3,
   "metadata": {},
   "outputs": [],
   "source": [
    "# Now to the fun stuff, we import our module!\n",
    "try:\n",
    "    import covid19_inference as cov19\n",
    "except ModuleNotFoundError:\n",
    "    sys.path.append(\"../../\")\n",
    "    import covid19_inference as cov19"
   ]
  },
  {
   "cell_type": "markdown",
   "metadata": {},
   "source": [
    "\n",
    "## Data retrieval\n",
    "\n",
    "The next thing we want to do is load a dataset from somewhere.\n",
    "There are multiple download sources which can be found [here](https://covid19-inference.readthedocs.io/en/latest/doc/data_retrieval.html).\n",
    "In this example we will use the RKI dataset.\n"
   ]
  },
  {
   "cell_type": "code",
   "execution_count": 4,
   "metadata": {},
   "outputs": [
    {
     "name": "stderr",
     "output_type": "stream",
     "text": [
      "INFO     [covid19_inference.data_retrieval.retrieval] Successfully loaded data from local\n"
     ]
    }
   ],
   "source": [
    "rki = cov19.data_retrieval.RKI()  # It is important to download the dataset!\n",
    "rki.download_all_available_data()\n",
    "# One could also parse True to the constructor of the class to force an auto download"
   ]
  },
  {
   "cell_type": "markdown",
   "metadata": {},
   "source": [
    "\n",
    "\n",
    "We can now access this downloaded data by the attribute\n",
    "```\n",
    "rki.data\n",
    "```\n",
    "but normally one would use the build in filter methods,\n",
    "these can be found [here](https://covid19-inference.readthedocs.io/en/latest/doc/data_retrieval.html#covid19_inference.data_retrieval.JHU.get_new).\n",
    "\n",
    "Next we retrieve the filtered data from our source in this example we will get all new cases and the total (cumulative) cases for the bundesland \"Sachsen\".\n"
   ]
  },
  {
   "cell_type": "code",
   "execution_count": null,
   "metadata": {},
   "outputs": [],
   "source": [
    "bd = datetime.datetime(2020, 3, 10)  # For the date filter\n",
    "ed = datetime.datetime.now()"
   ]
  },
  {
   "cell_type": "code",
   "execution_count": null,
   "metadata": {},
   "outputs": [],
   "source": [
    "ed"
   ]
  },
  {
   "cell_type": "code",
   "execution_count": 7,
   "metadata": {},
   "outputs": [],
   "source": [
    "total_cases_obs = rki.get_total(\n",
    "    value=\"confirmed\", bundesland=\"Sachsen\", data_begin=bd, data_end=ed\n",
    ")\n",
    "new_cases_obs = rki.get_new(\n",
    "    value=\"confirmed\", bundesland=\"Sachsen\", data_begin=bd, data_end=ed\n",
    ")"
   ]
  },
  {
   "cell_type": "markdown",
   "metadata": {},
   "source": [
    "\n",
    "\n",
    "## Create the model\n",
    "\n",
    "First we need to set the priors for the change points and other configs.\n"
   ]
  },
  {
   "cell_type": "code",
   "execution_count": 8,
   "metadata": {},
   "outputs": [],
   "source": [
    "diff_data_sim = 16  # should be significantly larger than the expected delay, in\n",
    "# order to always fit the same number of data points.\n",
    "num_days_forecast = 10"
   ]
  },
  {
   "cell_type": "code",
   "execution_count": 9,
   "metadata": {},
   "outputs": [],
   "source": [
    "# We set the priors for the changepoints here\n",
    "prior_date_mild_dist_begin = datetime.datetime(2020, 3, 9)\n",
    "prior_date_strong_dist_begin = datetime.datetime(2020, 3, 16)\n",
    "prior_date_contact_ban_begin = datetime.datetime(2020, 3, 23)"
   ]
  },
  {
   "cell_type": "code",
   "execution_count": 10,
   "metadata": {},
   "outputs": [],
   "source": [
    "change_points = [\n",
    "    dict(\n",
    "        pr_mean_date_transient=prior_date_mild_dist_begin,\n",
    "        pr_sigma_date_transient=3,\n",
    "        pr_median_lambda=0.2,\n",
    "        pr_sigma_lambda=1,\n",
    "    ),\n",
    "    dict(\n",
    "        pr_mean_date_transient=prior_date_strong_dist_begin,\n",
    "        pr_sigma_date_transient=1.5,\n",
    "        pr_median_lambda=1 / 8,\n",
    "        pr_sigma_lambda=1,\n",
    "    ),\n",
    "    dict(\n",
    "        pr_mean_date_transient=prior_date_contact_ban_begin,\n",
    "        pr_sigma_date_transient=1.5,\n",
    "        pr_median_lambda=1 / 8 / 2,\n",
    "        pr_sigma_lambda=1,\n",
    "    ),\n",
    "]"
   ]
  },
  {
   "cell_type": "markdown",
   "metadata": {},
   "source": [
    "\n",
    "\n",
    "Next, we create the model! There are default values for most of the function arguments,\n",
    "but we will try to explicitly set all kwargs for the sake of this example.\n"
   ]
  },
  {
   "cell_type": "code",
   "execution_count": 11,
   "metadata": {},
   "outputs": [],
   "source": [
    "params_model = dict(\n",
    "    new_cases_obs=new_cases_obs[:],\n",
    "    data_begin=bd,\n",
    "    fcast_len=num_days_forecast,\n",
    "    diff_data_sim=diff_data_sim,\n",
    "    N_population=4e6,\n",
    ")\n",
    "# Median of the prior for the delay in case reporting, we assume 10 days\n",
    "pr_delay = 10"
   ]
  },
  {
   "cell_type": "markdown",
   "metadata": {},
   "source": [
    "\n",
    "\n",
    "The model is specified in a context. Each function in this context\n",
    "has access to the model parameters set.\n"
   ]
  },
  {
   "cell_type": "code",
   "execution_count": 12,
   "metadata": {},
   "outputs": [
    {
     "name": "stderr",
     "output_type": "stream",
     "text": [
      "INFO     [covid19_inference.model.spreading_rate] Lambda_t with sigmoids\n",
      "INFO     [covid19_inference.model.model] pr_median_transient_len was set to default value 4\n",
      "INFO     [covid19_inference.model.model] pr_sigma_transient_len was set to default value 0.5\n",
      "INFO     [covid19_inference.model.model] relative_to_previous was set to default value False\n",
      "INFO     [covid19_inference.model.model] pr_factor_to_previous was set to default value 1\n",
      "INFO     [covid19_inference.model.model] pr_median_transient_len was set to default value 4\n",
      "INFO     [covid19_inference.model.model] pr_sigma_transient_len was set to default value 0.5\n",
      "INFO     [covid19_inference.model.model] relative_to_previous was set to default value False\n",
      "INFO     [covid19_inference.model.model] pr_factor_to_previous was set to default value 1\n",
      "INFO     [covid19_inference.model.model] pr_median_transient_len was set to default value 4\n",
      "INFO     [covid19_inference.model.model] pr_sigma_transient_len was set to default value 0.5\n",
      "INFO     [covid19_inference.model.model] relative_to_previous was set to default value False\n",
      "INFO     [covid19_inference.model.model] pr_factor_to_previous was set to default value 1\n",
      "INFO     [covid19_inference.model.compartmental_models] Uncorrelated prior_I\n",
      "INFO     [covid19_inference.model.compartmental_models] SIR\n",
      "INFO     [covid19_inference.model.delay] Delaying cases\n",
      "INFO     [covid19_inference.model.week_modulation] Week modulation\n"
     ]
    }
   ],
   "source": [
    "with cov19.model.Cov19Model(**params_model) as this_model:\n",
    "    # Create the an array of the time dependent infection rate lambda\n",
    "    lambda_t_log = cov19.model.lambda_t_with_sigmoids(\n",
    "        pr_median_lambda_0=0.4,\n",
    "        pr_sigma_lambda_0=0.5,\n",
    "        change_points_list=change_points,  # The change point priors we constructed earlier\n",
    "        name_lambda_t=\"lambda_t\",  # Name for the variable in the trace (see later)\n",
    "    )\n",
    "\n",
    "    # set prior distribution for the recovery rate\n",
    "    mu = pm.Lognormal(name=\"mu\", mu=np.log(1 / 8), sigma=0.2)\n",
    "\n",
    "    # This builds a decorrelated prior for I_begin for faster inference.\n",
    "    # It is not necessary to use it, one can simply remove it and use the default argument\n",
    "    # for pr_I_begin in cov19.SIR\n",
    "    prior_I = cov19.model.uncorrelated_prior_I(\n",
    "        lambda_t_log=lambda_t_log,\n",
    "        mu=mu,\n",
    "        pr_median_delay=pr_delay,\n",
    "        name_I_begin=\"I_begin\",\n",
    "        name_I_begin_ratio_log=\"I_begin_ratio_log\",\n",
    "        pr_sigma_I_begin=2,\n",
    "        n_data_points_used=5,\n",
    "    )\n",
    "\n",
    "    # Use lambda_t_log and mu to run the SIR model\n",
    "    new_cases = cov19.model.SIR(\n",
    "        lambda_t_log=lambda_t_log,\n",
    "        mu=mu,\n",
    "        name_new_I_t=\"new_I_t\",\n",
    "        name_I_t=\"I_t\",\n",
    "        name_I_begin=\"I_begin\",\n",
    "        pr_I_begin=prior_I,\n",
    "    )\n",
    "\n",
    "    # Delay the cases by a lognormal reporting delay\n",
    "    new_cases = cov19.model.delay_cases(\n",
    "        cases=new_cases,\n",
    "        name_cases=\"delayed_cases\",\n",
    "        name_delay=\"delay\",\n",
    "        name_width=\"delay-width\",\n",
    "        pr_mean_of_median=pr_delay,\n",
    "        pr_sigma_of_median=0.2,\n",
    "        pr_median_of_width=0.3,\n",
    "    )\n",
    "\n",
    "    # Modulate the inferred cases by a abs(sin(x)) function, to account for weekend effects\n",
    "    # Also adds the \"new_cases\" variable to the trace that has all model features.\n",
    "    new_cases = cov19.model.week_modulation(\n",
    "        cases=new_cases,\n",
    "        name_cases=\"new_cases\",\n",
    "        name_weekend_factor=\"weekend_factor\",\n",
    "        name_offset_modulation=\"offset_modulation\",\n",
    "        week_modulation_type=\"abs_sine\",\n",
    "        pr_mean_weekend_factor=0.3,\n",
    "        pr_sigma_weekend_factor=0.5,\n",
    "        weekend_days=(6, 7),\n",
    "    )\n",
    "\n",
    "    # Define the likelihood, uses the new_cases_obs set as model parameter\n",
    "    cov19.model.student_t_likelihood(new_cases)"
   ]
  },
  {
   "cell_type": "markdown",
   "metadata": {},
   "source": [
    "\n",
    "## MCMC sampling\n",
    "\n",
    "After the model is built, it is sampled using an MCMC sampler.\n",
    "The number of parallel runs can be set with the argument `cores=`.\n",
    "In particular, due to a bug in Theano, Windows users should set `cores=1`.\n",
    "The sampling can take a long time.\n"
   ]
  },
  {
   "cell_type": "code",
   "execution_count": null,
   "metadata": {},
   "outputs": [
    {
     "name": "stderr",
     "output_type": "stream",
     "text": [
      "Auto-assigning NUTS sampler...\n",
      "INFO     [pymc3] Auto-assigning NUTS sampler...\n",
      "Initializing NUTS using advi+adapt_diag...\n",
      "INFO     [pymc3] Initializing NUTS using advi+adapt_diag...\n"
     ]
    },
    {
     "data": {
      "text/html": [
       "\n",
       "    <div>\n",
       "        <style>\n",
       "            /* Turns off some styling */\n",
       "            progress {\n",
       "                /* gets rid of default border in Firefox and Opera. */\n",
       "                border: none;\n",
       "                /* Needs to be in here for Safari polyfill so background images work as expected. */\n",
       "                background-size: auto;\n",
       "            }\n",
       "            .progress-bar-interrupted, .progress-bar-interrupted::-webkit-progress-bar {\n",
       "                background: #F44336;\n",
       "            }\n",
       "        </style>\n",
       "      <progress value='24109' class='' max='200000' style='width:300px; height:20px; vertical-align: middle;'></progress>\n",
       "      12.05% [24109/200000 1:38:05<11:55:37 Average Loss = 616.45]\n",
       "    </div>\n",
       "    "
      ],
      "text/plain": [
       "<IPython.core.display.HTML object>"
      ]
     },
     "metadata": {},
     "output_type": "display_data"
    }
   ],
   "source": [
    "trace = pm.sample(model=this_model, tune=500, draws=1000, init=\"advi+adapt_diag\")"
   ]
  },
  {
   "cell_type": "markdown",
   "metadata": {},
   "source": [
    "\n",
    "## Plotting\n",
    "Plotting tools are rudimentary right now. But one can always write custom plotting function\n",
    "by accessing the samples stored in the trace.\n",
    "\n",
    "### Distributions\n"
   ]
  },
  {
   "cell_type": "code",
   "execution_count": null,
   "metadata": {
    "scrolled": true
   },
   "outputs": [],
   "source": [
    "fig, axes = plt.subplots(6, 3, figsize=(6, 6.4))\n",
    "varnames = this_model.untransformed_freeRVs\n",
    "print(\"Possible varnames are :\")\n",
    "print(varnames)"
   ]
  },
  {
   "cell_type": "code",
   "execution_count": null,
   "metadata": {},
   "outputs": [],
   "source": [
    "for i, key in enumerate(\n",
    "    # left column\n",
    "    [\"weekend_factor\", \"mu\", \"lambda_0\", \"lambda_1\", \"lambda_2\", \"lambda_3\"]\n",
    "):\n",
    "    cov19.plot._distribution(this_model, trace, key, ax=axes[i, 0])"
   ]
  },
  {
   "cell_type": "code",
   "execution_count": null,
   "metadata": {},
   "outputs": [],
   "source": [
    "for i, key in enumerate(\n",
    "    # mid column\n",
    "    [\n",
    "        \"offset_modulation\",\n",
    "        \"sigma_obs\",\n",
    "        \"I_begin\",\n",
    "        \"transient_day_1\",\n",
    "        \"transient_day_2\",\n",
    "        \"transient_day_3\",\n",
    "    ]\n",
    "):\n",
    "    cov19.plot._distribution(this_model, trace, key, ax=axes[i, 1])"
   ]
  },
  {
   "cell_type": "code",
   "execution_count": null,
   "metadata": {},
   "outputs": [],
   "source": [
    "for i, key in enumerate(\n",
    "    # right column\n",
    "    [\"delay\", \"transient_len_1\", \"transient_len_2\", \"transient_len_3\",]\n",
    "):\n",
    "    cov19.plot._distribution(this_model, trace, key, ax=axes[i + 2, 2])"
   ]
  },
  {
   "cell_type": "code",
   "execution_count": null,
   "metadata": {},
   "outputs": [],
   "source": [
    "fig.tight_layout()\n",
    "fig #To print in jupyter notebook"
   ]
  },
  {
   "cell_type": "markdown",
   "metadata": {},
   "source": [
    "\n",
    "### Timeseries\n",
    "timeseries overview, for now needs an offset variable to get cumulative cases\n"
   ]
  },
  {
   "cell_type": "code",
   "execution_count": null,
   "metadata": {},
   "outputs": [],
   "source": [
    "fig, axes = cov19.plot.timeseries_overview(this_model, trace, offset=-3000)"
   ]
  }
 ],
 "metadata": {
  "kernelspec": {
   "display_name": "Python 3",
   "language": "python",
   "name": "python3"
  },
  "language_info": {
   "codemirror_mode": {
    "name": "ipython",
    "version": 3
   },
   "file_extension": ".py",
   "mimetype": "text/x-python",
   "name": "python",
   "nbconvert_exporter": "python",
   "pygments_lexer": "ipython3",
   "version": "3.7.6"
  }
 },
 "nbformat": 4,
 "nbformat_minor": 2
}
