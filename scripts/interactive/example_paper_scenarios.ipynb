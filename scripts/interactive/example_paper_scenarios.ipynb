{
 "cells": [
  {
   "cell_type": "markdown",
   "metadata": {},
   "source": [
    "[![Open In Colab](https://colab.research.google.com/assets/colab-badge.svg)](https://colab.research.google.com/github/Priesemann-Group/covid19_inference/blob/model_cleanup/scripts/interactive/example_paper_scenarios.ipynb)"
   ]
  },
  {
   "cell_type": "code",
   "execution_count": null,
   "metadata": {},
   "outputs": [],
   "source": [
    "!pip install git+https://github.com/Priesemann-Group/covid19_inference.git"
   ]
  },
  {
   "cell_type": "markdown",
   "metadata": {},
   "source": [
    "\n",
    "\n",
    "# Non-hierarchical model using jhu data (no regions).\n",
    "Reproduces Dehning et al. arXiv:2004.01105 Figure 3\n",
    "\n",
    "Runtime ~ 45 min\n",
    "\n",
    "In the new code we have implemented smoother transitions at the change points\n",
    "via sigmoids instead of the linear transient.\n",
    "This slightly changes the interpretation of the change-point onset time. In the\n",
    "paper, it was the beginning of the change, now it is at the center (of the\n",
    "sigmoid)\n"
   ]
  },
  {
   "cell_type": "code",
   "execution_count": 1,
   "metadata": {},
   "outputs": [
    {
     "name": "stderr",
     "output_type": "stream",
     "text": [
      "WARNING (theano.configdefaults): g++ not available, if using conda: `conda install m2w64-toolchain`\n",
      "C:\\Users\\smwik\\Anaconda3\\lib\\site-packages\\theano\\configdefaults.py:560: UserWarning: DeprecationWarning: there is no c++ compiler.This is deprecated and with Theano 0.11 a c++ compiler will be mandatory\n",
      "  warnings.warn(\"DeprecationWarning: there is no c++ compiler.\"\n",
      "WARNING (theano.configdefaults): g++ not detected ! Theano will be unable to execute optimized C-implementations (for both CPU and GPU) and will default to Python implementations. Performance will be severely degraded. To remove this warning, set Theano flags cxx to an empty string.\n",
      "WARNING (theano.tensor.blas): Using NumPy C-API based implementation for BLAS functions.\n"
     ]
    }
   ],
   "source": [
    "import datetime\n",
    "import sys\n",
    "import pymc3 as pm\n",
    "import numpy as np\n",
    "import matplotlib as mpl\n",
    "import matplotlib.pyplot as plt"
   ]
  },
  {
   "cell_type": "code",
   "execution_count": 2,
   "metadata": {},
   "outputs": [],
   "source": [
    "try:\n",
    "    import covid19_inference as cov19\n",
    "except ModuleNotFoundError:\n",
    "    sys.path.append(\"../../\")\n",
    "    import covid19_inference as cov19"
   ]
  },
  {
   "cell_type": "code",
   "execution_count": 3,
   "metadata": {},
   "outputs": [],
   "source": [
    "bd = datetime.datetime(2020, 3, 2)\n",
    "ed = datetime.datetime(2020, 4, 21)"
   ]
  },
  {
   "cell_type": "code",
   "execution_count": 4,
   "metadata": {},
   "outputs": [
    {
     "name": "stderr",
     "output_type": "stream",
     "text": [
      "INFO     [covid19_inference.data_retrieval._JHU] Successfully loaded data from local\n"
     ]
    }
   ],
   "source": [
    "jhu = cov19.data_retrieval.JHU(auto_download=True)\n",
    "cum_cases = jhu.get_total(country=\"Germany\", data_begin=bd, data_end=ed)\n",
    "new_cases = jhu.get_new(country=\"Germany\", data_begin=bd, data_end=ed)"
   ]
  },
  {
   "cell_type": "code",
   "execution_count": 5,
   "metadata": {},
   "outputs": [],
   "source": [
    "params_model = dict(\n",
    "    new_cases_obs=new_cases,\n",
    "    data_begin=bd,\n",
    "    fcast_len=28,\n",
    "    diff_data_sim=16,\n",
    "    N_population=83e6,\n",
    ")"
   ]
  },
  {
   "cell_type": "code",
   "execution_count": 6,
   "metadata": {},
   "outputs": [],
   "source": [
    "# Median of the prior for the delay in case reporting, we assumed 8 days\n",
    "pr_delay = 8"
   ]
  },
  {
   "cell_type": "code",
   "execution_count": 7,
   "metadata": {},
   "outputs": [],
   "source": [
    "change_points = [\n",
    "    # mild distancing\n",
    "    dict(\n",
    "        pr_mean_date_transient=datetime.datetime(2020, 3, 9)\n",
    "        # account for new implementation where transients_day is centered, not begin\n",
    "        + datetime.timedelta(days=1.5),\n",
    "        pr_median_transient_len=3,\n",
    "        pr_sigma_transient_len=0.3,\n",
    "        pr_sigma_date_transient=3,\n",
    "        pr_median_lambda=0.2,\n",
    "        pr_sigma_lambda=0.5,\n",
    "    ),\n",
    "    # strong distancing\n",
    "    dict(\n",
    "        pr_mean_date_transient=datetime.datetime(2020, 3, 16)\n",
    "        + datetime.timedelta(days=1.5),\n",
    "        pr_median_transient_len=3,\n",
    "        pr_sigma_transient_len=0.3,\n",
    "        pr_sigma_date_transient=1,\n",
    "        pr_median_lambda=1 / 8,\n",
    "        pr_sigma_lambda=0.5,\n",
    "    ),\n",
    "    # contact ban\n",
    "    dict(\n",
    "        pr_mean_date_transient=datetime.datetime(2020, 3, 23)\n",
    "        + datetime.timedelta(days=1.5),\n",
    "        pr_median_transient_len=3,\n",
    "        pr_sigma_transient_len=0.3,\n",
    "        pr_sigma_date_transient=1,\n",
    "        pr_median_lambda=1 / 16,\n",
    "        pr_sigma_lambda=0.5,\n",
    "    ),\n",
    "]"
   ]
  },
  {
   "cell_type": "markdown",
   "metadata": {},
   "source": [
    "\n",
    "\n",
    "create a model instance from the parameters and change points from above.\n",
    "Add further details.\n",
    "Every variable we define in the `with ... as model`-context gets attached\n",
    "to the model and becomes a variable in the trace.\n"
   ]
  },
  {
   "cell_type": "code",
   "execution_count": 8,
   "metadata": {},
   "outputs": [
    {
     "name": "stderr",
     "output_type": "stream",
     "text": [
      "INFO     [covid19_inference.model.spreading_rate] Lambda_t with sigmoids\n",
      "INFO     [covid19_inference.model.model] relative_to_previous was set to default value False\n",
      "INFO     [covid19_inference.model.model] pr_factor_to_previous was set to default value 1\n",
      "INFO     [covid19_inference.model.model] relative_to_previous was set to default value False\n",
      "INFO     [covid19_inference.model.model] pr_factor_to_previous was set to default value 1\n",
      "INFO     [covid19_inference.model.model] relative_to_previous was set to default value False\n",
      "INFO     [covid19_inference.model.model] pr_factor_to_previous was set to default value 1\n",
      "INFO     [covid19_inference.model.compartmental_models] Uncorrelated prior_I\n",
      "INFO     [covid19_inference.model.compartmental_models] SIR\n",
      "INFO     [covid19_inference.model.delay] Delaying cases\n",
      "INFO     [covid19_inference.model.week_modulation] Week modulation\n"
     ]
    }
   ],
   "source": [
    "with cov19.Cov19Model(**params_model) as this_model:\n",
    "    # Create the an array of the time dependent infection rate lambda\n",
    "    lambda_t_log = cov19.model.lambda_t_with_sigmoids(\n",
    "        pr_median_lambda_0=0.4,\n",
    "        pr_sigma_lambda_0=0.5,\n",
    "        change_points_list=change_points,\n",
    "        name_lambda_t=\"lambda_t\",  # Name for the variable in the trace\n",
    "    )\n",
    "\n",
    "    # Adds the recovery rate mu to the model as a random variable\n",
    "    mu = pm.Lognormal(name=\"mu\", mu=np.log(1 / 8), sigma=0.2)\n",
    "\n",
    "    # This builds a decorrelated prior for I_begin for faster inference. It is not\n",
    "    # necessary to use it, one can simply remove it and use the default argument for\n",
    "    # pr_I_begin in cov19.model.SIR\n",
    "    prior_I = cov19.model.uncorrelated_prior_I(\n",
    "        lambda_t_log=lambda_t_log, mu=mu, pr_median_delay=pr_delay\n",
    "    )\n",
    "\n",
    "    # Use lambda_t_log and mu as parameters for the SIR model.\n",
    "    # The SIR model generates the inferred new daily cases.\n",
    "    new_cases = cov19.model.SIR(lambda_t_log=lambda_t_log, mu=mu, pr_I_begin=prior_I)\n",
    "\n",
    "    # Delay the cases by a lognormal reporting delay and add them as a trace variable\n",
    "    new_cases = cov19.model.delay_cases(\n",
    "        cases=new_cases,\n",
    "        name_cases=\"delayed_cases\",\n",
    "        pr_mean_of_median=pr_delay,\n",
    "        pr_median_of_width=0.1,\n",
    "    )\n",
    "\n",
    "    # Modulate the inferred cases by a abs(sin(x)) function, to account for weekend effects\n",
    "    # Also adds the \"new_cases\" variable to the trace that has all model features.\n",
    "    new_cases = cov19.model.week_modulation(cases=new_cases, name_cases=\"new_cases\")\n",
    "\n",
    "    # Define the likelihood, uses the new_cases_obs set as model parameter\n",
    "    cov19.model.student_t_likelihood(cases=new_cases)"
   ]
  },
  {
   "cell_type": "markdown",
   "metadata": {},
   "source": [
    "\n",
    "## engage!\n",
    "Reduce tune and/or draws to speed things up.\n"
   ]
  },
  {
   "cell_type": "code",
   "execution_count": 9,
   "metadata": {},
   "outputs": [
    {
     "name": "stderr",
     "output_type": "stream",
     "text": [
      "Auto-assigning NUTS sampler...\n",
      "INFO     [pymc3] Auto-assigning NUTS sampler...\n",
      "Initializing NUTS using advi+adapt_diag...\n",
      "INFO     [pymc3] Initializing NUTS using advi+adapt_diag...\n"
     ]
    },
    {
     "data": {
      "text/html": [
       "\n",
       "    <div>\n",
       "        <style>\n",
       "            /* Turns off some styling */\n",
       "            progress {\n",
       "                /* gets rid of default border in Firefox and Opera. */\n",
       "                border: none;\n",
       "                /* Needs to be in here for Safari polyfill so background images work as expected. */\n",
       "                background-size: auto;\n",
       "            }\n",
       "            .progress-bar-interrupted, .progress-bar-interrupted::-webkit-progress-bar {\n",
       "                background: #F44336;\n",
       "            }\n",
       "        </style>\n",
       "      <progress value='1546' class='' max='200000' style='width:300px; height:20px; vertical-align: middle;'></progress>\n",
       "      0.77% [1546/200000 04:09<8:54:35 Average Loss = 708.43]\n",
       "    </div>\n",
       "    "
      ],
      "text/plain": [
       "<IPython.core.display.HTML object>"
      ]
     },
     "metadata": {},
     "output_type": "display_data"
    },
    {
     "ename": "FloatingPointError",
     "evalue": "NaN occurred in optimization. \nThe current approximation of RV `weekend_factor_log`.ravel()[0] is NaN.\nThe current approximation of RV `transient_day_2`.ravel()[0] is NaN.\nThe current approximation of RV `sigma_obs_log__`.ravel()[0] is NaN.\nThe current approximation of RV `transient_len_3_log_`.ravel()[0] is NaN.\nThe current approximation of RV `lambda_3_log_`.ravel()[0] is NaN.\nThe current approximation of RV `transient_day_3`.ravel()[0] is NaN.\nThe current approximation of RV `transient_len_2_log_`.ravel()[0] is NaN.\nThe current approximation of RV `I_begin_ratio_log`.ravel()[0] is NaN.\nThe current approximation of RV `lambda_1_log_`.ravel()[0] is NaN.\nThe current approximation of RV `lambda_0_log_`.ravel()[0] is NaN.\nThe current approximation of RV `mu_log__`.ravel()[0] is NaN.\nThe current approximation of RV `lambda_2_log_`.ravel()[0] is NaN.\nThe current approximation of RV `delay_log`.ravel()[0] is NaN.\nThe current approximation of RV `transient_day_1`.ravel()[0] is NaN.\nThe current approximation of RV `transient_len_1_log_`.ravel()[0] is NaN.\nThe current approximation of RV `offset_modulation_rad_circular__`.ravel()[0] is NaN.\nTry tracking this parameter: http://docs.pymc.io/notebooks/variational_api_quickstart.html#Tracking-parameters",
     "output_type": "error",
     "traceback": [
      "\u001b[1;31m---------------------------------------------------------------------------\u001b[0m",
      "\u001b[1;31mFloatingPointError\u001b[0m                        Traceback (most recent call last)",
      "\u001b[1;32m<ipython-input-9-c20ebc4c3196>\u001b[0m in \u001b[0;36m<module>\u001b[1;34m\u001b[0m\n\u001b[1;32m----> 1\u001b[1;33m \u001b[0mtrace\u001b[0m \u001b[1;33m=\u001b[0m \u001b[0mpm\u001b[0m\u001b[1;33m.\u001b[0m\u001b[0msample\u001b[0m\u001b[1;33m(\u001b[0m\u001b[0mmodel\u001b[0m\u001b[1;33m=\u001b[0m\u001b[0mthis_model\u001b[0m\u001b[1;33m,\u001b[0m \u001b[0mtune\u001b[0m\u001b[1;33m=\u001b[0m\u001b[1;36m500\u001b[0m\u001b[1;33m,\u001b[0m \u001b[0mdraws\u001b[0m\u001b[1;33m=\u001b[0m\u001b[1;36m1000\u001b[0m\u001b[1;33m,\u001b[0m \u001b[0minit\u001b[0m\u001b[1;33m=\u001b[0m\u001b[1;34m\"advi+adapt_diag\"\u001b[0m\u001b[1;33m)\u001b[0m\u001b[1;33m\u001b[0m\u001b[1;33m\u001b[0m\u001b[0m\n\u001b[0m",
      "\u001b[1;32m~\\Anaconda3\\lib\\site-packages\\pymc3\\sampling.py\u001b[0m in \u001b[0;36msample\u001b[1;34m(draws, step, init, n_init, start, trace, chain_idx, chains, cores, tune, progressbar, model, random_seed, discard_tuned_samples, compute_convergence_checks, callback, return_inferencedata, idata_kwargs, **kwargs)\u001b[0m\n\u001b[0;32m    471\u001b[0m                 \u001b[0mrandom_seed\u001b[0m\u001b[1;33m=\u001b[0m\u001b[0mrandom_seed\u001b[0m\u001b[1;33m,\u001b[0m\u001b[1;33m\u001b[0m\u001b[1;33m\u001b[0m\u001b[0m\n\u001b[0;32m    472\u001b[0m                 \u001b[0mprogressbar\u001b[0m\u001b[1;33m=\u001b[0m\u001b[0mprogressbar\u001b[0m\u001b[1;33m,\u001b[0m\u001b[1;33m\u001b[0m\u001b[1;33m\u001b[0m\u001b[0m\n\u001b[1;32m--> 473\u001b[1;33m                 \u001b[1;33m**\u001b[0m\u001b[0mkwargs\u001b[0m\u001b[1;33m\u001b[0m\u001b[1;33m\u001b[0m\u001b[0m\n\u001b[0m\u001b[0;32m    474\u001b[0m             )\n\u001b[0;32m    475\u001b[0m             \u001b[1;32mif\u001b[0m \u001b[0mstart\u001b[0m \u001b[1;32mis\u001b[0m \u001b[1;32mNone\u001b[0m\u001b[1;33m:\u001b[0m\u001b[1;33m\u001b[0m\u001b[1;33m\u001b[0m\u001b[0m\n",
      "\u001b[1;32m~\\Anaconda3\\lib\\site-packages\\pymc3\\sampling.py\u001b[0m in \u001b[0;36minit_nuts\u001b[1;34m(init, chains, n_init, model, random_seed, progressbar, **kwargs)\u001b[0m\n\u001b[0;32m   1987\u001b[0m             \u001b[0mcallbacks\u001b[0m\u001b[1;33m=\u001b[0m\u001b[0mcb\u001b[0m\u001b[1;33m,\u001b[0m\u001b[1;33m\u001b[0m\u001b[1;33m\u001b[0m\u001b[0m\n\u001b[0;32m   1988\u001b[0m             \u001b[0mprogressbar\u001b[0m\u001b[1;33m=\u001b[0m\u001b[0mprogressbar\u001b[0m\u001b[1;33m,\u001b[0m\u001b[1;33m\u001b[0m\u001b[1;33m\u001b[0m\u001b[0m\n\u001b[1;32m-> 1989\u001b[1;33m             \u001b[0mobj_optimizer\u001b[0m\u001b[1;33m=\u001b[0m\u001b[0mpm\u001b[0m\u001b[1;33m.\u001b[0m\u001b[0madagrad_window\u001b[0m\u001b[1;33m,\u001b[0m\u001b[1;33m\u001b[0m\u001b[1;33m\u001b[0m\u001b[0m\n\u001b[0m\u001b[0;32m   1990\u001b[0m         )  # type: pm.MeanField\n\u001b[0;32m   1991\u001b[0m         \u001b[0mstart\u001b[0m \u001b[1;33m=\u001b[0m \u001b[0mapprox\u001b[0m\u001b[1;33m.\u001b[0m\u001b[0msample\u001b[0m\u001b[1;33m(\u001b[0m\u001b[0mdraws\u001b[0m\u001b[1;33m=\u001b[0m\u001b[0mchains\u001b[0m\u001b[1;33m)\u001b[0m\u001b[1;33m\u001b[0m\u001b[1;33m\u001b[0m\u001b[0m\n",
      "\u001b[1;32m~\\Anaconda3\\lib\\site-packages\\pymc3\\variational\\inference.py\u001b[0m in \u001b[0;36mfit\u001b[1;34m(n, local_rv, method, model, random_seed, start, inf_kwargs, **kwargs)\u001b[0m\n\u001b[0;32m    838\u001b[0m             \u001b[1;34mf\"method should be one of {set(_select.keys())} or Inference instance\"\u001b[0m\u001b[1;33m\u001b[0m\u001b[1;33m\u001b[0m\u001b[0m\n\u001b[0;32m    839\u001b[0m         )\n\u001b[1;32m--> 840\u001b[1;33m     \u001b[1;32mreturn\u001b[0m \u001b[0minference\u001b[0m\u001b[1;33m.\u001b[0m\u001b[0mfit\u001b[0m\u001b[1;33m(\u001b[0m\u001b[0mn\u001b[0m\u001b[1;33m,\u001b[0m \u001b[1;33m**\u001b[0m\u001b[0mkwargs\u001b[0m\u001b[1;33m)\u001b[0m\u001b[1;33m\u001b[0m\u001b[1;33m\u001b[0m\u001b[0m\n\u001b[0m",
      "\u001b[1;32m~\\Anaconda3\\lib\\site-packages\\pymc3\\variational\\inference.py\u001b[0m in \u001b[0;36mfit\u001b[1;34m(self, n, score, callbacks, progressbar, **kwargs)\u001b[0m\n\u001b[0;32m    149\u001b[0m             \u001b[0mprogress\u001b[0m \u001b[1;33m=\u001b[0m \u001b[0mrange\u001b[0m\u001b[1;33m(\u001b[0m\u001b[0mn\u001b[0m\u001b[1;33m)\u001b[0m\u001b[1;33m\u001b[0m\u001b[1;33m\u001b[0m\u001b[0m\n\u001b[0;32m    150\u001b[0m         \u001b[1;32mif\u001b[0m \u001b[0mscore\u001b[0m\u001b[1;33m:\u001b[0m\u001b[1;33m\u001b[0m\u001b[1;33m\u001b[0m\u001b[0m\n\u001b[1;32m--> 151\u001b[1;33m             \u001b[0mstate\u001b[0m \u001b[1;33m=\u001b[0m \u001b[0mself\u001b[0m\u001b[1;33m.\u001b[0m\u001b[0m_iterate_with_loss\u001b[0m\u001b[1;33m(\u001b[0m\u001b[1;36m0\u001b[0m\u001b[1;33m,\u001b[0m \u001b[0mn\u001b[0m\u001b[1;33m,\u001b[0m \u001b[0mstep_func\u001b[0m\u001b[1;33m,\u001b[0m \u001b[0mprogress\u001b[0m\u001b[1;33m,\u001b[0m \u001b[0mcallbacks\u001b[0m\u001b[1;33m)\u001b[0m\u001b[1;33m\u001b[0m\u001b[1;33m\u001b[0m\u001b[0m\n\u001b[0m\u001b[0;32m    152\u001b[0m         \u001b[1;32melse\u001b[0m\u001b[1;33m:\u001b[0m\u001b[1;33m\u001b[0m\u001b[1;33m\u001b[0m\u001b[0m\n\u001b[0;32m    153\u001b[0m             \u001b[0mstate\u001b[0m \u001b[1;33m=\u001b[0m \u001b[0mself\u001b[0m\u001b[1;33m.\u001b[0m\u001b[0m_iterate_without_loss\u001b[0m\u001b[1;33m(\u001b[0m\u001b[1;36m0\u001b[0m\u001b[1;33m,\u001b[0m \u001b[0mn\u001b[0m\u001b[1;33m,\u001b[0m \u001b[0mstep_func\u001b[0m\u001b[1;33m,\u001b[0m \u001b[0mprogress\u001b[0m\u001b[1;33m,\u001b[0m \u001b[0mcallbacks\u001b[0m\u001b[1;33m)\u001b[0m\u001b[1;33m\u001b[0m\u001b[1;33m\u001b[0m\u001b[0m\n",
      "\u001b[1;32m~\\Anaconda3\\lib\\site-packages\\pymc3\\variational\\inference.py\u001b[0m in \u001b[0;36m_iterate_with_loss\u001b[1;34m(self, s, n, step_func, progress, callbacks)\u001b[0m\n\u001b[0;32m    237\u001b[0m                     \u001b[1;32mexcept\u001b[0m \u001b[0mIndexError\u001b[0m\u001b[1;33m:\u001b[0m\u001b[1;33m\u001b[0m\u001b[1;33m\u001b[0m\u001b[0m\n\u001b[0;32m    238\u001b[0m                         \u001b[1;32mpass\u001b[0m\u001b[1;33m\u001b[0m\u001b[1;33m\u001b[0m\u001b[0m\n\u001b[1;32m--> 239\u001b[1;33m                     \u001b[1;32mraise\u001b[0m \u001b[0mFloatingPointError\u001b[0m\u001b[1;33m(\u001b[0m\u001b[1;34m\"\\n\"\u001b[0m\u001b[1;33m.\u001b[0m\u001b[0mjoin\u001b[0m\u001b[1;33m(\u001b[0m\u001b[0merrmsg\u001b[0m\u001b[1;33m)\u001b[0m\u001b[1;33m)\u001b[0m\u001b[1;33m\u001b[0m\u001b[1;33m\u001b[0m\u001b[0m\n\u001b[0m\u001b[0;32m    240\u001b[0m                 \u001b[0mscores\u001b[0m\u001b[1;33m[\u001b[0m\u001b[0mi\u001b[0m\u001b[1;33m]\u001b[0m \u001b[1;33m=\u001b[0m \u001b[0me\u001b[0m\u001b[1;33m\u001b[0m\u001b[1;33m\u001b[0m\u001b[0m\n\u001b[0;32m    241\u001b[0m                 \u001b[1;32mif\u001b[0m \u001b[0mi\u001b[0m \u001b[1;33m%\u001b[0m \u001b[1;36m10\u001b[0m \u001b[1;33m==\u001b[0m \u001b[1;36m0\u001b[0m\u001b[1;33m:\u001b[0m\u001b[1;33m\u001b[0m\u001b[1;33m\u001b[0m\u001b[0m\n",
      "\u001b[1;31mFloatingPointError\u001b[0m: NaN occurred in optimization. \nThe current approximation of RV `weekend_factor_log`.ravel()[0] is NaN.\nThe current approximation of RV `transient_day_2`.ravel()[0] is NaN.\nThe current approximation of RV `sigma_obs_log__`.ravel()[0] is NaN.\nThe current approximation of RV `transient_len_3_log_`.ravel()[0] is NaN.\nThe current approximation of RV `lambda_3_log_`.ravel()[0] is NaN.\nThe current approximation of RV `transient_day_3`.ravel()[0] is NaN.\nThe current approximation of RV `transient_len_2_log_`.ravel()[0] is NaN.\nThe current approximation of RV `I_begin_ratio_log`.ravel()[0] is NaN.\nThe current approximation of RV `lambda_1_log_`.ravel()[0] is NaN.\nThe current approximation of RV `lambda_0_log_`.ravel()[0] is NaN.\nThe current approximation of RV `mu_log__`.ravel()[0] is NaN.\nThe current approximation of RV `lambda_2_log_`.ravel()[0] is NaN.\nThe current approximation of RV `delay_log`.ravel()[0] is NaN.\nThe current approximation of RV `transient_day_1`.ravel()[0] is NaN.\nThe current approximation of RV `transient_len_1_log_`.ravel()[0] is NaN.\nThe current approximation of RV `offset_modulation_rad_circular__`.ravel()[0] is NaN.\nTry tracking this parameter: http://docs.pymc.io/notebooks/variational_api_quickstart.html#Tracking-parameters"
     ]
    }
   ],
   "source": [
    "trace = pm.sample(model=this_model, tune=500, draws=1000, init=\"advi+adapt_diag\")"
   ]
  },
  {
   "cell_type": "markdown",
   "metadata": {},
   "source": [
    "\n",
    "## plotting\n"
   ]
  },
  {
   "cell_type": "code",
   "execution_count": null,
   "metadata": {},
   "outputs": [],
   "source": [
    "fig, axes = cov19.plot.timeseries_overview(this_model, trace, offset=cum_cases[0])"
   ]
  },
  {
   "cell_type": "code",
   "execution_count": null,
   "metadata": {},
   "outputs": [],
   "source": [
    "fig, axes = plt.subplots(6, 3, figsize=(4, 6.4))\n",
    "axes[0, 2].set_visible(False)\n",
    "axes[1, 2].set_visible(False)"
   ]
  },
  {
   "cell_type": "code",
   "execution_count": null,
   "metadata": {},
   "outputs": [],
   "source": [
    "# left column\n",
    "for i, key in enumerate(\n",
    "    [\"weekend_factor\", \"mu\", \"lambda_0\", \"lambda_1\", \"lambda_2\", \"lambda_3\"]\n",
    "):\n",
    "    cov19.plot._distribution(this_model, trace, key, ax=axes[i, 0])"
   ]
  },
  {
   "cell_type": "code",
   "execution_count": null,
   "metadata": {},
   "outputs": [],
   "source": [
    "# mid column\n",
    "for i, key in enumerate(\n",
    "    [\n",
    "        \"offset_modulation\",\n",
    "        \"sigma_obs\",\n",
    "        \"I_begin\",\n",
    "        # beware, these guys were the begin of the transient in the paper,\n",
    "        # now they are the center points (shifted by transient_len_i)\n",
    "        \"transient_day_1\",\n",
    "        \"transient_day_2\",\n",
    "        \"transient_day_3\",\n",
    "    ]\n",
    "):\n",
    "    cov19.plot._distribution(this_model, trace, key, ax=axes[i, 1])"
   ]
  },
  {
   "cell_type": "code",
   "execution_count": null,
   "metadata": {},
   "outputs": [],
   "source": [
    "# right column\n",
    "for i, key in enumerate(\n",
    "    [\"delay\", \"transient_len_1\", \"transient_len_2\", \"transient_len_3\",]\n",
    "):\n",
    "    cov19.plot._distribution(this_model, trace, key, ax=axes[i + 2, 2])"
   ]
  },
  {
   "cell_type": "code",
   "execution_count": null,
   "metadata": {},
   "outputs": [],
   "source": [
    "fig.tight_layout()\n",
    "fig #To show figure in jupyter notebook"
   ]
  }
 ],
 "metadata": {
  "kernelspec": {
   "display_name": "Python 3",
   "language": "python",
   "name": "python3"
  },
  "language_info": {
   "codemirror_mode": {
    "name": "ipython",
    "version": 3
   },
   "file_extension": ".py",
   "mimetype": "text/x-python",
   "name": "python",
   "nbconvert_exporter": "python",
   "pygments_lexer": "ipython3",
   "version": "3.7.6"
  }
 },
 "nbformat": 4,
 "nbformat_minor": 2
}
